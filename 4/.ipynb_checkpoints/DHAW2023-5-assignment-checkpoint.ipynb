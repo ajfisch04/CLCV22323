{
 "cells": [
  {
   "cell_type": "markdown",
   "id": "f9a008b1",
   "metadata": {},
   "source": [
    "#### Open and read the file `Hawking-Questioning-the-Universe.txt`."
   ]
  },
  {
   "cell_type": "code",
   "execution_count": 96,
   "id": "80d26b98",
   "metadata": {},
   "outputs": [],
   "source": [
    "with open(\"Hawking-Questioning-the-Universe.txt\",\"r\") as file:\n",
    "    hawking = \"\".join(line.rstrip() for line in file)"
   ]
  },
  {
   "cell_type": "markdown",
   "id": "aec98901",
   "metadata": {},
   "source": [
    "#### Print the first 50 characters."
   ]
  },
  {
   "cell_type": "code",
   "execution_count": 97,
   "id": "3b086da2",
   "metadata": {},
   "outputs": [
    {
     "name": "stdout",
     "output_type": "stream",
     "text": [
      "There is nothing bigger or older than the universe\n"
     ]
    }
   ],
   "source": [
    "print(hawking[:50])"
   ]
  },
  {
   "cell_type": "markdown",
   "id": "970c4531",
   "metadata": {},
   "source": [
    "#### Print from the 52nd to the 163rd character."
   ]
  },
  {
   "cell_type": "code",
   "execution_count": 98,
   "id": "9b7d569c",
   "metadata": {},
   "outputs": [
    {
     "name": "stdout",
     "output_type": "stream",
     "text": [
      "The questions I would like to talk about are: one, where did we come from? How did the universe come into being\n"
     ]
    }
   ],
   "source": [
    "print(hawking[52:163])"
   ]
  },
  {
   "cell_type": "markdown",
   "id": "aa65c078",
   "metadata": {},
   "source": [
    "---"
   ]
  },
  {
   "cell_type": "markdown",
   "id": "29b90e57",
   "metadata": {},
   "source": [
    "#### Open the file `Hawking-Questioning-the-Universe.txt` and create a list named `text_as_list` where every word is an element of the list. \n",
    "\n",
    "Hint: there are two ways to do it. Either with `.readlines()` or with `.split()`. I encourage you to google how both work, but I suggest to adopt the latter.\n",
    "\n",
    "Hint: if you want to split the text so every word is an element of a list, what should be the parameter of the `split()` method? Read more [here](https://www.w3schools.com/python/ref_string_split.asp)."
   ]
  },
  {
   "cell_type": "code",
   "execution_count": 99,
   "id": "8f2f6e23",
   "metadata": {},
   "outputs": [
    {
     "name": "stdout",
     "output_type": "stream",
     "text": [
      "['There', 'is', 'nothing', 'bigger', 'or', 'older', 'than', 'the', 'universe.', 'The', 'questions', 'I', 'would', 'like', 'to', 'talk', 'about', 'are:', 'one,', 'where', 'did', 'we', 'come', 'from?', 'How', 'did', 'the', 'universe', 'come', 'into', 'being?', 'Are', 'we', 'alone', 'in', 'the', 'universe?', 'Is', 'there', 'alien', 'life', 'out', 'there?', 'What', 'is', 'the', 'future', 'of', 'the', 'human', 'race?', 'Up', 'until', 'the', '1920s,', 'everyone', 'thought', 'the', 'universe', 'was', 'essentially', 'static', 'and', 'unchanging', 'in', 'time.', 'Then', 'it', 'was', 'discovered', 'that', 'the', 'universe', 'was', 'expanding.', 'Distant', 'galaxies', 'were', 'moving', 'away', 'from', 'us.', 'This', 'meant', 'they', 'must', 'have', 'been', 'closer', 'together', 'in', 'the', 'past.', 'If', 'we', 'extrapolate', 'back,', 'we', 'find', 'we', 'must', 'have', 'all', 'been', 'on', 'top', 'of', 'each', 'other', 'about', '15', 'billion', 'years', 'ago.', 'This', 'was', 'the', 'Big', 'Bang,', 'the', 'beginning', 'of', 'the', 'universe.', 'But', 'was', 'there', 'anything', 'before', 'the', 'Big', 'Bang?', 'If', 'not,', 'what', 'created', 'the', 'universe?', 'Why', 'did', 'the', 'universe', 'emerge', 'from', 'the', 'Big', 'Bang', 'the', 'way', 'it', 'did?', 'We', 'used', 'to', 'think', 'that', 'the', 'theory', 'of', 'the', 'universe', 'could', 'be', 'divided', 'into', 'two', 'parts.', 'First,', 'there', 'were', 'the', 'laws', 'like', 'Maxwellâ€™s', 'equations', 'and', 'general', 'relativity', 'that', 'determined', 'the', 'evolution', 'of', 'the', 'universe,', 'given', 'its', 'state', 'over', 'all', 'of', 'space', 'at', 'one', 'time.', 'And', 'second,', 'there', 'was', 'no', 'question', 'of', 'the', 'initial', 'state', 'of', 'the', 'universe.', 'We', 'have', 'made', 'good', 'progress', 'on', 'the', 'first', 'part,', 'and', 'now', 'have', 'the', 'knowledge', 'of', 'the', 'laws', 'of', 'evolution', 'in', 'all', 'but', 'the', 'most', 'extreme', 'conditions.', 'But', 'until', 'recently,', 'we', 'have', 'had', 'little', 'idea', 'about', 'the', 'initial', 'conditions', 'for', 'the', 'universe.', 'However,', 'this', 'division', 'into', 'laws', 'of', 'evolution', 'and', 'initial', 'conditions', 'depends', 'on', 'time', 'and', 'space', 'being', 'separate', 'and', 'distinct.', 'Under', 'extreme', 'conditions,', 'general', 'relativity', 'and', 'quantum', 'theory', 'allow', 'time', 'to', 'behave', 'like', 'another', 'dimension', 'of', 'space.', 'This', 'removes', 'the', 'distinction', 'between', 'time', 'and', 'space,', 'and', 'means', 'the', 'laws', 'of', 'evolution', 'can', 'also', 'determine', 'the', 'initial', 'state.', 'The', 'universe', 'can', 'spontaneously', 'create', 'itself', 'out', 'of', 'nothing.', 'Moreover,', 'we', 'can', 'calculate', 'a', 'probability', 'that', 'the', 'universe', 'was', 'created', 'in', 'different', 'states.', 'These', 'predictions', 'are', 'in', 'excellent', 'agreement', 'with', 'observations', 'by', 'the', 'WMAP', 'satellite', 'of', 'the', 'cosmic', 'microwave', 'background,', 'which', 'is', 'an', 'imprint', 'of', 'the', 'very', 'early', 'universe.', 'We', 'think', 'we', 'have', 'solved', 'the', 'mystery', 'of', 'creation.', 'Maybe', 'we', 'should', 'patent', 'the', 'universe', 'and', 'charge', 'everyone', 'royalties', 'for', 'their', 'existence.', 'I', 'now', 'turn', 'to', 'the', 'second', 'big', 'question:', 'are', 'we', 'alone,', 'or', 'is', 'there', 'other', 'life', 'in', 'the', 'universe?', 'We', 'believe', 'that', 'life', 'arose', 'spontaneously', 'on', 'the', 'Earth,', 'so', 'it', 'must', 'be', 'possible', 'for', 'life', 'to', 'appear', 'on', 'other', 'suitable', 'planets,', 'of', 'which', 'there', 'seem', 'to', 'be', 'a', 'large', 'number', 'in', 'the', 'galaxy.', 'But', 'we', 'donâ€™t', 'know', 'how', 'life', 'first', 'appeared.', 'We', 'have', 'two', 'pieces', 'of', 'observational', 'evidence', 'on', 'the', 'probability', 'of', 'life', 'appearing.', 'The', 'first', 'is', 'that', 'we', 'have', 'fossils', 'of', 'algae', 'from', '3.5', 'billion', 'years', 'ago.', 'The', 'Earth', 'was', 'formed', '4.6', 'billion', 'years', 'ago', 'and', 'was', 'probably', 'too', 'hot', 'for', 'about', 'the', 'first', 'half', 'billion', 'years.', 'So', 'life', 'appeared', 'on', 'Earth', 'within', 'half', 'a', 'billion', 'years', 'of', 'it', 'being', 'possible,', 'which', 'is', 'short', 'compared', 'to', 'the', '10-billion-year', 'lifetime', 'of', 'a', 'planet', 'of', 'Earth', 'type.', 'This', 'suggests', 'that', 'the', 'probability', 'of', 'life', 'appearing', 'is', 'reasonably', 'high.', 'If', 'it', 'was', 'very', 'low,', 'one', 'would', 'have', 'expected', 'it', 'to', 'take', 'most', 'of', 'the', 'ten', 'billion', 'years', 'available.', 'On', 'the', 'other', 'hand,', 'we', 'donâ€™t', 'seem', 'to', 'have', 'been', 'visited', 'by', 'aliens.', 'I', 'am', 'discounting', 'the', 'reports', 'of', 'UFOs.', 'Why', 'would', 'they', 'appear', 'only', 'to', 'cranks', 'and', 'weirdos?', 'If', 'there', 'is', 'a', 'government', 'conspiracy', 'to', 'suppress', 'the', 'reports', 'and', 'keep', 'for', 'itself', 'the', 'scientific', 'knowledge', 'the', 'aliens', 'bring,', 'it', 'seems', 'to', 'have', 'been', 'a', 'singularly', 'ineffective', 'policy', 'so', 'far.', 'Furthermore,', 'despite', 'an', 'extensive', 'search', 'by', 'the', 'SETI', 'project,', 'we', 'havenâ€™t', 'heard', 'any', 'alien', 'television', 'quiz', 'shows.', 'This', 'probably', 'indicates', 'that', 'there', 'are', 'no', 'alien', 'civilizations', 'at', 'our', 'stage', 'of', 'development', 'within', 'a', 'radius', 'of', 'a', 'few', 'hundred', 'light', 'years.', 'Issuing', 'an', 'insurance', 'policy', 'against', 'abduction', 'by', 'aliens', 'seems', 'a', 'pretty', 'safe', 'bet.', 'This', 'brings', 'me', 'to', 'the', 'last', 'of', 'the', 'big', 'questions:', 'the', 'future', 'of', 'the', 'human', 'race.', 'If', 'we', 'are', 'the', 'only', 'intelligent', 'beings', 'in', 'the', 'galaxy,', 'we', 'should', 'make', 'sure', 'we', 'survive', 'and', 'continue.', 'But', 'we', 'are', 'entering', 'an', 'increasingly', 'dangerous', 'period', 'of', 'our', 'history.', 'Our', 'population', 'and', 'our', 'use', 'of', 'the', 'finite', 'resources', 'of', 'planet', 'Earth', 'are', 'growing', 'exponentially,', 'along', 'with', 'our', 'technical', 'ability', 'to', 'change', 'the', 'environment', 'for', 'good', 'or', 'ill.', 'But', 'our', 'genetic', 'code', 'still', 'carries', 'the', 'selfish', 'and', 'aggressive', 'instincts', 'that', 'were', 'of', 'survival', 'advantage', 'in', 'the', 'past.', 'It', 'will', 'be', 'difficult', 'enough', 'to', 'avoid', 'disaster', 'in', 'the', 'next', 'hundred', 'years,', 'let', 'alone', 'the', 'next', 'thousand', 'or', 'million.', 'Our', 'only', 'chance', 'of', 'long-term', 'survival', 'is', 'not', 'to', 'remain', 'inward-looking', 'on', 'planet', 'Earth,', 'but', 'to', 'spread', 'out', 'into', 'space.', 'The', 'answers', 'to', 'these', 'big', 'questions', 'show', 'that', 'we', 'have', 'made', 'remarkable', 'progress', 'in', 'the', 'last', 'hundred', 'years.', 'But', 'if', 'we', 'want', 'to', 'continue', 'beyond', 'the', 'next', 'hundred', 'years,', 'our', 'future', 'is', 'in', 'space.', 'That', 'is', 'why', 'I', 'am', 'in', 'favor', 'of', 'manned', 'â€“', 'or', 'should', 'I', 'say,', 'personned', 'â€“', 'space', 'flight.', 'All', 'of', 'my', 'life', 'I', 'have', 'sought', 'to', 'understand', 'the', 'universe', 'and', 'find', 'answers', 'to', 'these', 'questions.', 'I', 'have', 'been', 'very', 'lucky', 'that', 'my', 'disability', 'has', 'not', 'been', 'a', 'serious', 'handicap.', 'Indeed,', 'it', 'has', 'probably', 'given', 'me', 'more', 'time', 'than', 'most', 'people', 'to', 'pursue', 'the', 'quest', 'for', 'knowledge.', 'The', 'ultimate', 'goal', 'is', 'a', 'complete', 'theory', 'of', 'the', 'universe,', 'and', 'we', 'are', 'making', 'good', 'progress.', 'Thank', 'you', 'for', 'listening.']\n"
     ]
    }
   ],
   "source": [
    "text_as_list = hawking.split()\n",
    "print(text_as_list)"
   ]
  },
  {
   "cell_type": "markdown",
   "id": "6e46f16a",
   "metadata": {},
   "source": [
    "#### This code will remove the punctuation from your list and applies the lower() method that returns a string where all characters are lower case. Simple run the cell."
   ]
  },
  {
   "cell_type": "code",
   "execution_count": 70,
   "id": "85b922d6",
   "metadata": {},
   "outputs": [
    {
     "name": "stdout",
     "output_type": "stream",
     "text": [
      "['there', 'is', 'nothing', 'bigger', 'or', 'older', 'than', 'the', 'universe', 'the', 'questions', 'i', 'would', 'like', 'to', 'talk', 'about', 'are', 'one', 'where', 'did', 'we', 'come', 'from', 'how', 'did', 'the', 'universe', 'come', 'into', 'being', 'are', 'we', 'alone', 'in', 'the', 'universe', 'is', 'there', 'alien', 'life', 'out', 'there', 'what', 'is', 'the', 'future', 'of', 'the', 'human', 'race', 'up', 'until', 'the', '1920s', 'everyone', 'thought', 'the', 'universe', 'was', 'essentially', 'static', 'and', 'unchanging', 'in', 'time', 'then', 'it', 'was', 'discovered', 'that', 'the', 'universe', 'was', 'expanding', 'distant', 'galaxies', 'were', 'moving', 'away', 'from', 'us', 'this', 'meant', 'they', 'must', 'have', 'been', 'closer', 'together', 'in', 'the', 'past', 'if', 'we', 'extrapolate', 'back', 'we', 'find', 'we', 'must', 'have', 'all', 'been', 'on', 'top', 'of', 'each', 'other', 'about', '15', 'billion', 'years', 'ago', 'this', 'was', 'the', 'big', 'bang', 'the', 'beginning', 'of', 'the', 'universe', 'but', 'was', 'there', 'anything', 'before', 'the', 'big', 'bang', 'if', 'not', 'what', 'created', 'the', 'universe', 'why', 'did', 'the', 'universe', 'emerge', 'from', 'the', 'big', 'bang', 'the', 'way', 'it', 'did', 'we', 'used', 'to', 'think', 'that', 'the', 'theory', 'of', 'the', 'universe', 'could', 'be', 'divided', 'into', 'two', 'parts', 'first', 'there', 'were', 'the', 'laws', 'like', 'maxwellâ€™s', 'equations', 'and', 'general', 'relativity', 'that', 'determined', 'the', 'evolution', 'of', 'the', 'universe', 'given', 'its', 'state', 'over', 'all', 'of', 'space', 'at', 'one', 'time', 'and', 'second', 'there', 'was', 'no', 'question', 'of', 'the', 'initial', 'state', 'of', 'the', 'universe', 'we', 'have', 'made', 'good', 'progress', 'on', 'the', 'first', 'part', 'and', 'now', 'have', 'the', 'knowledge', 'of', 'the', 'laws', 'of', 'evolution', 'in', 'all', 'but', 'the', 'most', 'extreme', 'conditions', 'but', 'until', 'recently', 'we', 'have', 'had', 'little', 'idea', 'about', 'the', 'initial', 'conditions', 'for', 'the', 'universe', 'however', 'this', 'division', 'into', 'laws', 'of', 'evolution', 'and', 'initial', 'conditions', 'depends', 'on', 'time', 'and', 'space', 'being', 'separate', 'and', 'distinct', 'under', 'extreme', 'conditions', 'general', 'relativity', 'and', 'quantum', 'theory', 'allow', 'time', 'to', 'behave', 'like', 'another', 'dimension', 'of', 'space', 'this', 'removes', 'the', 'distinction', 'between', 'time', 'and', 'space', 'and', 'means', 'the', 'laws', 'of', 'evolution', 'can', 'also', 'determine', 'the', 'initial', 'state', 'the', 'universe', 'can', 'spontaneously', 'create', 'itself', 'out', 'of', 'nothing', 'moreover', 'we', 'can', 'calculate', 'a', 'probability', 'that', 'the', 'universe', 'was', 'created', 'in', 'different', 'states', 'these', 'predictions', 'are', 'in', 'excellent', 'agreement', 'with', 'observations', 'by', 'the', 'wmap', 'satellite', 'of', 'the', 'cosmic', 'microwave', 'background', 'which', 'is', 'an', 'imprint', 'of', 'the', 'very', 'early', 'universe', 'we', 'think', 'we', 'have', 'solved', 'the', 'mystery', 'of', 'creation', 'maybe', 'we', 'should', 'patent', 'the', 'universe', 'and', 'charge', 'everyone', 'royalties', 'for', 'their', 'existence', 'i', 'now', 'turn', 'to', 'the', 'second', 'big', 'question', 'are', 'we', 'alone', 'or', 'is', 'there', 'other', 'life', 'in', 'the', 'universe', 'we', 'believe', 'that', 'life', 'arose', 'spontaneously', 'on', 'the', 'earth', 'so', 'it', 'must', 'be', 'possible', 'for', 'life', 'to', 'appear', 'on', 'other', 'suitable', 'planets', 'of', 'which', 'there', 'seem', 'to', 'be', 'a', 'large', 'number', 'in', 'the', 'galaxy', 'but', 'we', 'donâ€™t', 'know', 'how', 'life', 'first', 'appeared', 'we', 'have', 'two', 'pieces', 'of', 'observational', 'evidence', 'on', 'the', 'probability', 'of', 'life', 'appearing', 'the', 'first', 'is', 'that', 'we', 'have', 'fossils', 'of', 'algae', 'from', '35', 'billion', 'years', 'ago', 'the', 'earth', 'was', 'formed', '46', 'billion', 'years', 'ago', 'and', 'was', 'probably', 'too', 'hot', 'for', 'about', 'the', 'first', 'half', 'billion', 'years', 'so', 'life', 'appeared', 'on', 'earth', 'within', 'half', 'a', 'billion', 'years', 'of', 'it', 'being', 'possible', 'which', 'is', 'short', 'compared', 'to', 'the', '10billionyear', 'lifetime', 'of', 'a', 'planet', 'of', 'earth', 'type', 'this', 'suggests', 'that', 'the', 'probability', 'of', 'life', 'appearing', 'is', 'reasonably', 'high', 'if', 'it', 'was', 'very', 'low', 'one', 'would', 'have', 'expected', 'it', 'to', 'take', 'most', 'of', 'the', 'ten', 'billion', 'years', 'available', 'on', 'the', 'other', 'hand', 'we', 'donâ€™t', 'seem', 'to', 'have', 'been', 'visited', 'by', 'aliens', 'i', 'am', 'discounting', 'the', 'reports', 'of', 'ufos', 'why', 'would', 'they', 'appear', 'only', 'to', 'cranks', 'and', 'weirdos', 'if', 'there', 'is', 'a', 'government', 'conspiracy', 'to', 'suppress', 'the', 'reports', 'and', 'keep', 'for', 'itself', 'the', 'scientific', 'knowledge', 'the', 'aliens', 'bring', 'it', 'seems', 'to', 'have', 'been', 'a', 'singularly', 'ineffective', 'policy', 'so', 'far', 'furthermore', 'despite', 'an', 'extensive', 'search', 'by', 'the', 'seti', 'project', 'we', 'havenâ€™t', 'heard', 'any', 'alien', 'television', 'quiz', 'shows', 'this', 'probably', 'indicates', 'that', 'there', 'are', 'no', 'alien', 'civilizations', 'at', 'our', 'stage', 'of', 'development', 'within', 'a', 'radius', 'of', 'a', 'few', 'hundred', 'light', 'years', 'issuing', 'an', 'insurance', 'policy', 'against', 'abduction', 'by', 'aliens', 'seems', 'a', 'pretty', 'safe', 'bet', 'this', 'brings', 'me', 'to', 'the', 'last', 'of', 'the', 'big', 'questions', 'the', 'future', 'of', 'the', 'human', 'race', 'if', 'we', 'are', 'the', 'only', 'intelligent', 'beings', 'in', 'the', 'galaxy', 'we', 'should', 'make', 'sure', 'we', 'survive', 'and', 'continue', 'but', 'we', 'are', 'entering', 'an', 'increasingly', 'dangerous', 'period', 'of', 'our', 'history', 'our', 'population', 'and', 'our', 'use', 'of', 'the', 'finite', 'resources', 'of', 'planet', 'earth', 'are', 'growing', 'exponentially', 'along', 'with', 'our', 'technical', 'ability', 'to', 'change', 'the', 'environment', 'for', 'good', 'or', 'ill', 'but', 'our', 'genetic', 'code', 'still', 'carries', 'the', 'selfish', 'and', 'aggressive', 'instincts', 'that', 'were', 'of', 'survival', 'advantage', 'in', 'the', 'past', 'it', 'will', 'be', 'difficult', 'enough', 'to', 'avoid', 'disaster', 'in', 'the', 'next', 'hundred', 'years', 'let', 'alone', 'the', 'next', 'thousand', 'or', 'million', 'our', 'only', 'chance', 'of', 'longterm', 'survival', 'is', 'not', 'to', 'remain', 'inwardlooking', 'on', 'planet', 'earth', 'but', 'to', 'spread', 'out', 'into', 'space', 'the', 'answers', 'to', 'these', 'big', 'questions', 'show', 'that', 'we', 'have', 'made', 'remarkable', 'progress', 'in', 'the', 'last', 'hundred', 'years', 'but', 'if', 'we', 'want', 'to', 'continue', 'beyond', 'the', 'next', 'hundred', 'years', 'our', 'future', 'is', 'in', 'space', 'that', 'is', 'why', 'i', 'am', 'in', 'favor', 'of', 'manned', 'â€“', 'or', 'should', 'i', 'say', 'personned', 'â€“', 'space', 'flight', 'all', 'of', 'my', 'life', 'i', 'have', 'sought', 'to', 'understand', 'the', 'universe', 'and', 'find', 'answers', 'to', 'these', 'questions', 'i', 'have', 'been', 'very', 'lucky', 'that', 'my', 'disability', 'has', 'not', 'been', 'a', 'serious', 'handicap', 'indeed', 'it', 'has', 'probably', 'given', 'me', 'more', 'time', 'than', 'most', 'people', 'to', 'pursue', 'the', 'quest', 'for', 'knowledge', 'the', 'ultimate', 'goal', 'is', 'a', 'complete', 'theory', 'of', 'the', 'universe', 'and', 'we', 'are', 'making', 'good', 'progress', 'thank', 'you', 'for', 'listening']\n",
      "907\n"
     ]
    }
   ],
   "source": [
    "import string\n",
    "text_as_list = [i.translate(str.maketrans('', '', string.punctuation)).lower() for i in text_as_list]\n",
    "print(text_as_list)"
   ]
  },
  {
   "cell_type": "markdown",
   "id": "40d83f8d",
   "metadata": {},
   "source": [
    "#### Create a new list `words_begin_with_a`. Write a for loop that checks if a word starts with the letter \"a\". If yes, append the word to the list `words_begin_with_a`. Print how many words have been appended to the list.\n",
    "\n",
    "Hint: you have to define first an empty list.\n",
    "\n",
    "Hint: in order to find if a string starts with one or more letters, you should use the method `.startswith()`. Read more [here](https://www.w3schools.com/python/ref_string_startswith.asp)."
   ]
  },
  {
   "cell_type": "code",
   "execution_count": 82,
   "id": "bd59452d",
   "metadata": {},
   "outputs": [
    {
     "name": "stdout",
     "output_type": "stream",
     "text": [
      "['about', 'are', 'are', 'alone', 'alien', 'and', 'away', 'all', 'about', 'ago', 'anything', 'and', 'all', 'at', 'and', 'and', 'all', 'about', 'and', 'and', 'and', 'and', 'allow', 'another', 'and', 'and', 'also', 'a', 'are', 'agreement', 'an', 'and', 'are', 'alone', 'arose', 'appear', 'a', 'appeared', 'appearing', 'algae', 'ago', 'ago', 'and', 'about', 'appeared', 'a', 'a', 'appearing', 'available', 'aliens', 'am', 'appear', 'and', 'a', 'and', 'aliens', 'a', 'an', 'any', 'alien', 'are', 'alien', 'at', 'a', 'a', 'an', 'against', 'abduction', 'aliens', 'a', 'are', 'and', 'are', 'an', 'and', 'are', 'along', 'ability', 'and', 'aggressive', 'advantage', 'avoid', 'alone', 'answers', 'am', 'all', 'and', 'answers', 'a', 'a', 'and', 'are']\n",
      "92\n"
     ]
    }
   ],
   "source": [
    "words_begin_with_a = []\n",
    "for i in text_as_list:\n",
    "    if i.startswith('a'):\n",
    "        words_begin_with_a.append(i)\n",
    "print(words_begin_with_a)\n",
    "print(len(words_begin_with_a))\n",
    "## My answer is apparently wrong but I've reviewed the other list and don't see inconsistencies"
   ]
  },
  {
   "cell_type": "markdown",
   "id": "74a5b1ad",
   "metadata": {},
   "source": [
    "Answer: 310"
   ]
  },
  {
   "cell_type": "markdown",
   "id": "343c9baf",
   "metadata": {},
   "source": [
    "#### Write an if statement that checkes if the word \"universe\" appears in the text. Feel free to google how we test if a word is _in_ a Python list."
   ]
  },
  {
   "cell_type": "code",
   "execution_count": 84,
   "id": "de5a062f",
   "metadata": {},
   "outputs": [
    {
     "name": "stdout",
     "output_type": "stream",
     "text": [
      "universe appears\n"
     ]
    }
   ],
   "source": [
    "if 'universe' in text_as_list:\n",
    "    print(\"universe appears\")\n",
    "else:\n",
    "    print(\"universe does not appear\")"
   ]
  },
  {
   "cell_type": "markdown",
   "id": "02f46c5e",
   "metadata": {},
   "source": [
    "#### Write an if statement that checkes if the word \"alliens\" appears in the text. If not print \"the word does not appear\""
   ]
  },
  {
   "cell_type": "code",
   "execution_count": 85,
   "id": "92eeb1df",
   "metadata": {},
   "outputs": [
    {
     "name": "stdout",
     "output_type": "stream",
     "text": [
      "\"aliens\" appears\n"
     ]
    }
   ],
   "source": [
    "if 'aliens' in text_as_list:\n",
    "    print('\"aliens\" appears')\n",
    "else:\n",
    "    print(\"the word does not appear\")"
   ]
  },
  {
   "cell_type": "markdown",
   "id": "bab7c422",
   "metadata": {},
   "source": [
    "#### Write an if statement that checkes if the word \"alliens\" appears in the text. If not, check if the word \"International Space Station\" appears in the text. If neither is in the text, print \"I didn't find the words\"."
   ]
  },
  {
   "cell_type": "code",
   "execution_count": 86,
   "id": "5e5b4701",
   "metadata": {},
   "outputs": [
    {
     "name": "stdout",
     "output_type": "stream",
     "text": [
      "\"aliens\" appears\n"
     ]
    }
   ],
   "source": [
    "if 'aliens' in text_as_list:\n",
    "    print('\"aliens\" appears')\n",
    "elif 'International Space Station' in text_as_list:\n",
    "    print('\"International Space Station\" appears')\n",
    "else:\n",
    "    print(\"the word does not appear\")"
   ]
  },
  {
   "cell_type": "markdown",
   "id": "d649d362",
   "metadata": {},
   "source": [
    "# Write a function that prints the numbers from 1 to 20. But for multiples of three, print \"Fizz\" instead of the number, and for the multiples of five, print \"Buzz.\" For numbers that are multiples of both three and five, print \"FizzBuzz.\""
   ]
  },
  {
   "cell_type": "code",
   "execution_count": 123,
   "id": "b2633fe3",
   "metadata": {},
   "outputs": [
    {
     "name": "stdout",
     "output_type": "stream",
     "text": [
      "['1', '2', 'Fizz', '4', 'Buzz', 'Fizz', '7', '8', 'Fizz', 'Buzz', '11', 'Fizz', '13', '14', 'FizzBuzz', '16', '17', 'Fizz', '19', 'Buzz']\n"
     ]
    }
   ],
   "source": [
    "def funny_counter():\n",
    "    funny_list = ['1', '2', '3', '4', '5', '6', '7', '8', '9', '10', '11', '12', '13', '14', '15', '16', '17', '18', '19', '20']\n",
    "    loop = 1\n",
    "    for i in funny_list:\n",
    "        if ((loop % 3) == 0):\n",
    "            #print(i + \" Fizz\")\n",
    "            funny_list[loop-1] = \"Fizz\"\n",
    "        if ((loop % 5) == 0):\n",
    "            #print(i + \" Buzz\")\n",
    "            funny_list[loop-1] = \"Buzz\"\n",
    "        if ((loop % 15) == 0):\n",
    "            funny_list[loop-1] = \"FizzBuzz\"\n",
    "            #print(i + \" FizzBuzz\")\n",
    "        loop += 1\n",
    "        #print(loop)\n",
    "    print(funny_list)\n",
    "funny_counter()"
   ]
  },
  {
   "cell_type": "markdown",
   "id": "4b5cb2fb",
   "metadata": {},
   "source": [
    "#### Password Strength Checker:\n",
    "Write a function that takes a password as input and checks its strength based on the following criteria:\n",
    "\n",
    "- At least 8 characters long\n",
    "- Contains both uppercase and lowercase letters\n",
    "- Contains at least one digit\n",
    "\n",
    "Hint: use the string methods `.isupper()`, `.islower()` and `.isdigit()"
   ]
  },
  {
   "cell_type": "code",
   "execution_count": 132,
   "id": "ffd52edd",
   "metadata": {},
   "outputs": [
    {
     "name": "stdout",
     "output_type": "stream",
     "text": [
      "password too weak\n",
      "password is strong\n",
      "password too weak\n",
      "password is strong\n",
      "password too weak\n",
      "password is strong\n"
     ]
    }
   ],
   "source": [
    "def pass_strength(password):\n",
    "    Uppercase = False\n",
    "    Lowercase = False\n",
    "    Digit = False\n",
    "    for i in password:\n",
    "        if i.isupper():\n",
    "            Uppercase = True\n",
    "        if i.islower():\n",
    "            Lowercase = True\n",
    "        if i.isdigit():\n",
    "            Digit = True\n",
    "    if ((Uppercase == True) & (Lowercase == True) & (Digit == True) & (len(password) >= 8)):\n",
    "        print(\"password is strong\")\n",
    "    else:\n",
    "        print(\"password too weak\")\n",
    "pass_strength(\"AveryFischer\") ## weak\n",
    "pass_strength(\"AveryFischer8\") ## strong\n",
    "pass_strength(\"Avery8\") ## weak\n",
    "pass_strength(\"Fischer8\") ## strong\n",
    "pass_strength(\"fischer8\") ## weak\n",
    "pass_strength(\"AbCd3fGh123\") ## strong"
   ]
  },
  {
   "cell_type": "markdown",
   "id": "6c682e9f",
   "metadata": {},
   "source": [
    "#### Leap Year Checker\n",
    "Write a function that takes a year as input and returns whether it's a leap year or not."
   ]
  },
  {
   "cell_type": "code",
   "execution_count": 124,
   "id": "c5633f06",
   "metadata": {},
   "outputs": [
    {
     "name": "stdout",
     "output_type": "stream",
     "text": [
      "yes\n",
      "no\n",
      "yes\n",
      "no\n"
     ]
    }
   ],
   "source": [
    "def is_leapyear(year):\n",
    "    if ((year % 100) == 0):\n",
    "        if ((year % 400) == 0):\n",
    "            print(\"yes\")\n",
    "        else:\n",
    "            print(\"no\")\n",
    "    else:\n",
    "        if ((year % 4) == 0):\n",
    "            print(\"yes\")\n",
    "        else:\n",
    "            print(\"no\")\n",
    "is_leapyear(2000) ## yes\n",
    "is_leapyear(1900) ## no\n",
    "is_leapyear(2360) ## yes\n",
    "is_leapyear(2359) ## no"
   ]
  }
 ],
 "metadata": {
  "kernelspec": {
   "display_name": "Python 3 (ipykernel)",
   "language": "python",
   "name": "python3"
  },
  "language_info": {
   "codemirror_mode": {
    "name": "ipython",
    "version": 3
   },
   "file_extension": ".py",
   "mimetype": "text/x-python",
   "name": "python",
   "nbconvert_exporter": "python",
   "pygments_lexer": "ipython3",
   "version": "3.11.4"
  },
  "vscode": {
   "interpreter": {
    "hash": "60486a05ab6ace32977486fcfbebc3ad7adfe2c9848311c9760f2effeddac2bf"
   }
  }
 },
 "nbformat": 4,
 "nbformat_minor": 5
}
