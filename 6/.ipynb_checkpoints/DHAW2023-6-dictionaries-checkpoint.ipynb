{
 "cells": [
  {
   "cell_type": "markdown",
   "id": "c81a9caf",
   "metadata": {},
   "source": [
    "## Dictionaries"
   ]
  },
  {
   "cell_type": "code",
   "execution_count": 3,
   "id": "9112bef3",
   "metadata": {},
   "outputs": [],
   "source": [
    "contact_dict = {'first': 'John', 'last': 'Smith', 'email': 'johnsmith@gmail.com'}"
   ]
  },
  {
   "cell_type": "code",
   "execution_count": 4,
   "id": "61eef1f0",
   "metadata": {},
   "outputs": [
    {
     "name": "stdout",
     "output_type": "stream",
     "text": [
      "{'first': 'John', 'last': 'Smith', 'email': 'johnsmith@gmail.com'}\n"
     ]
    }
   ],
   "source": [
    "print(contact_dict)"
   ]
  },
  {
   "cell_type": "markdown",
   "id": "06f0ad91",
   "metadata": {},
   "source": [
    "#### Create a dictionary"
   ]
  },
  {
   "cell_type": "code",
   "execution_count": 36,
   "id": "635ec654",
   "metadata": {},
   "outputs": [],
   "source": [
    "my_dict = {'name': 'John', 'age': 25, 'city': 'New York', 'grade': 'A', 'is_student': True}"
   ]
  },
  {
   "cell_type": "markdown",
   "id": "2fbd4874",
   "metadata": {},
   "source": [
    "#### Accessing Values: Write a program that accesses and prints values from the dictionary created above"
   ]
  },
  {
   "cell_type": "code",
   "execution_count": 9,
   "id": "d4051027",
   "metadata": {},
   "outputs": [
    {
     "name": "stdout",
     "output_type": "stream",
     "text": [
      "John\n"
     ]
    }
   ],
   "source": [
    "print(my_dict.get('name'))"
   ]
  },
  {
   "cell_type": "markdown",
   "id": "c8f30f99",
   "metadata": {},
   "source": [
    "#### Dictionary Manipulation: Add a new key-value pair to `my_dict`. Then, update the value of an existing key."
   ]
  },
  {
   "cell_type": "code",
   "execution_count": 10,
   "id": "37b13753",
   "metadata": {},
   "outputs": [
    {
     "name": "stdout",
     "output_type": "stream",
     "text": [
      "{'name': 'Juan', 'age': 25, 'city': 'New York', 'grade': 'A', 'is_student': True, 'graduation': 2024}\n"
     ]
    }
   ],
   "source": [
    "my_dict['graduation'] = 2024\n",
    "my_dict['name'] = 'Juan'\n",
    "print(my_dict)"
   ]
  },
  {
   "cell_type": "markdown",
   "id": "28a5a173",
   "metadata": {},
   "source": [
    "#### Print Keys and Values: Write a program to print all keys and values from `my_dict` separately."
   ]
  },
  {
   "cell_type": "code",
   "execution_count": 15,
   "id": "c51e2891",
   "metadata": {},
   "outputs": [
    {
     "name": "stdout",
     "output_type": "stream",
     "text": [
      "Keys: ['name', 'age', 'city', 'grade', 'is_student', 'graduation']\n",
      "Values: ['Juan', 25, 'New York', 'A', True, 2024]\n"
     ]
    }
   ],
   "source": [
    "print(\"Keys:\", list(my_dict.keys()))\n",
    "print(\"Values:\", list(my_dict.values()))"
   ]
  },
  {
   "cell_type": "markdown",
   "id": "d4b87a3d",
   "metadata": {},
   "source": [
    "#### Check if Key Exists: Write a program that checks if a specific key exists in `my_dict`."
   ]
  },
  {
   "cell_type": "code",
   "execution_count": 17,
   "id": "ee82b71a",
   "metadata": {},
   "outputs": [
    {
     "name": "stdout",
     "output_type": "stream",
     "text": [
      "city exists in the dictionary\n",
      "major does not exist in the dictionary\n",
      "name exists in the dictionary\n",
      "dog does not exist in the dictionary\n"
     ]
    }
   ],
   "source": [
    "def key_exists_check(key):\n",
    "    my_dict_keys = list(my_dict.keys())\n",
    "    j = 0\n",
    "    for i in my_dict_keys:\n",
    "        if (i == key):\n",
    "            print(key + \" exists in the dictionary\")\n",
    "            j += 1\n",
    "    if (j < 1):\n",
    "        print(key + \" does not exist in the dictionary\")\n",
    "\n",
    "key_exists_check('city')\n",
    "key_exists_check('major')\n",
    "key_exists_check('name')\n",
    "key_exists_check('dog')"
   ]
  },
  {
   "cell_type": "markdown",
   "id": "fdd7911a",
   "metadata": {},
   "source": [
    "#### Remove a Key: Remove one key-value pair from `my_dict` and print the updated dictionary."
   ]
  },
  {
   "cell_type": "code",
   "execution_count": 18,
   "id": "124b77bb",
   "metadata": {},
   "outputs": [
    {
     "name": "stdout",
     "output_type": "stream",
     "text": [
      "{'name': 'Juan', 'age': 25, 'grade': 'A', 'is_student': True, 'graduation': 2024}\n"
     ]
    }
   ],
   "source": [
    "del my_dict['city']\n",
    "print(my_dict)"
   ]
  },
  {
   "cell_type": "markdown",
   "id": "0cf92b6e",
   "metadata": {},
   "source": [
    "#### Loop Through Dictionary: Write a program that uses a for loop to iterate through all key-value pairs in `my_dict` and prints them."
   ]
  },
  {
   "cell_type": "code",
   "execution_count": 28,
   "id": "cf56deb6",
   "metadata": {},
   "outputs": [
    {
     "name": "stdout",
     "output_type": "stream",
     "text": [
      "name: Juan\n",
      "age: 25\n",
      "grade: A\n",
      "is_student: True\n",
      "graduation: 2024\n"
     ]
    }
   ],
   "source": [
    "key_list = list(my_dict.keys())\n",
    "value_list = list(my_dict.values())\n",
    "for i in my_dict:\n",
    "    print(i + \": \" + str(my_dict.get(i)))"
   ]
  },
  {
   "cell_type": "markdown",
   "id": "6f133e78",
   "metadata": {},
   "source": [
    "#### Merge Dictionaries: Create a new dictionary, `new_dict`, and merge it with `my_dict`. Print the merged dictionary."
   ]
  },
  {
   "cell_type": "code",
   "execution_count": 37,
   "id": "86958dc3",
   "metadata": {},
   "outputs": [
    {
     "name": "stdout",
     "output_type": "stream",
     "text": [
      "{'gender': 'Male', 'occupation': 'Engineer', 'salary': 50000, 'name': 'John', 'age': 25, 'city': 'New York', 'grade': 'A', 'is_student': True}\n"
     ]
    }
   ],
   "source": [
    "new_dict = {'gender': 'Male', 'occupation': 'Engineer', 'salary': 50000}\n",
    "new_dict.update(my_dict)\n",
    "print(new_dict)"
   ]
  },
  {
   "cell_type": "markdown",
   "id": "7ff7dc07",
   "metadata": {},
   "source": [
    "#### Count Occurrences: Write a program that takes a string as input and counts the occurrences of each letter in the string using a dictionary."
   ]
  },
  {
   "cell_type": "code",
   "execution_count": 18,
   "id": "7a323b30",
   "metadata": {},
   "outputs": [
    {
     "name": "stdout",
     "output_type": "stream",
     "text": [
      "{'h': 1, 'e': 1, 'l': 2, 'o': 1}\n"
     ]
    }
   ],
   "source": [
    "def count_letters(input_string):\n",
    "    count_dict = {}\n",
    "    for i in input_string:\n",
    "        "
   ]
  },
  {
   "cell_type": "markdown",
   "id": "750a773f",
   "metadata": {},
   "source": [
    "#### Nested Dictionary: Create a nested dictionary with at least two levels. Access and print values from the nested dictionary."
   ]
  },
  {
   "cell_type": "code",
   "execution_count": 19,
   "id": "06d599fe",
   "metadata": {},
   "outputs": [
    {
     "name": "stdout",
     "output_type": "stream",
     "text": [
      "Wonderland\n"
     ]
    }
   ],
   "source": []
  },
  {
   "cell_type": "markdown",
   "id": "e9669ae7",
   "metadata": {},
   "source": [
    "---"
   ]
  }
 ],
 "metadata": {
  "kernelspec": {
   "display_name": "Python 3 (ipykernel)",
   "language": "python",
   "name": "python3"
  },
  "language_info": {
   "codemirror_mode": {
    "name": "ipython",
    "version": 3
   },
   "file_extension": ".py",
   "mimetype": "text/x-python",
   "name": "python",
   "nbconvert_exporter": "python",
   "pygments_lexer": "ipython3",
   "version": "3.11.4"
  }
 },
 "nbformat": 4,
 "nbformat_minor": 5
}
