{
 "cells": [
  {
   "cell_type": "markdown",
   "id": "1dea4bf9",
   "metadata": {},
   "source": [
    "#### Imports"
   ]
  },
  {
   "cell_type": "code",
   "execution_count": 6,
   "id": "e98139ba",
   "metadata": {},
   "outputs": [],
   "source": [
    "import pandas as pd\n",
    "from random import randint\n",
    "pd.set_option('display.max_rows', 5)\n",
    "pd.set_option('display.max_columns', 500)\n",
    "pd.set_option('display.width', 10000)"
   ]
  },
  {
   "cell_type": "markdown",
   "id": "398d45c3",
   "metadata": {},
   "source": [
    "#### Download the latest [Pleiades places csv file](https://atlantides.org/downloads/pleiades/dumps/pleiades-places-latest.csv.gz) and read it."
   ]
  },
  {
   "cell_type": "code",
   "execution_count": 7,
   "id": "e5af4645",
   "metadata": {},
   "outputs": [],
   "source": [
    "places = pd.read_csv(\"pleiades-places.csv\")"
   ]
  },
  {
   "cell_type": "markdown",
   "id": "5bb50b08",
   "metadata": {},
   "source": [
    "#### Print the first two rows"
   ]
  },
  {
   "cell_type": "code",
   "execution_count": 8,
   "id": "fbb0a7a0",
   "metadata": {},
   "outputs": [
    {
     "data": {
      "text/html": [
       "<div>\n",
       "<style scoped>\n",
       "    .dataframe tbody tr th:only-of-type {\n",
       "        vertical-align: middle;\n",
       "    }\n",
       "\n",
       "    .dataframe tbody tr th {\n",
       "        vertical-align: top;\n",
       "    }\n",
       "\n",
       "    .dataframe thead th {\n",
       "        text-align: right;\n",
       "    }\n",
       "</style>\n",
       "<table border=\"1\" class=\"dataframe\">\n",
       "  <thead>\n",
       "    <tr style=\"text-align: right;\">\n",
       "      <th></th>\n",
       "      <th>authors</th>\n",
       "      <th>bbox</th>\n",
       "      <th>connectsWith</th>\n",
       "      <th>created</th>\n",
       "      <th>creators</th>\n",
       "      <th>currentVersion</th>\n",
       "      <th>description</th>\n",
       "      <th>extent</th>\n",
       "      <th>featureTypes</th>\n",
       "      <th>geoContext</th>\n",
       "      <th>hasConnectionsWith</th>\n",
       "      <th>id</th>\n",
       "      <th>locationPrecision</th>\n",
       "      <th>maxDate</th>\n",
       "      <th>minDate</th>\n",
       "      <th>modified</th>\n",
       "      <th>path</th>\n",
       "      <th>reprLat</th>\n",
       "      <th>reprLatLong</th>\n",
       "      <th>reprLong</th>\n",
       "      <th>tags</th>\n",
       "      <th>timePeriods</th>\n",
       "      <th>timePeriodsKeys</th>\n",
       "      <th>timePeriodsRange</th>\n",
       "      <th>title</th>\n",
       "      <th>uid</th>\n",
       "    </tr>\n",
       "  </thead>\n",
       "  <tbody>\n",
       "    <tr>\n",
       "      <th>0</th>\n",
       "      <td>Becker, J., T. Elliott</td>\n",
       "      <td>13.4119837, 42.082885, 13.4119837, 42.082885</td>\n",
       "      <td>413005</td>\n",
       "      <td>2016-11-04T16:36:09Z</td>\n",
       "      <td>jbecker, thomase</td>\n",
       "      <td>1.0</td>\n",
       "      <td>The post-Roman settlement at Alba Fucens becam...</td>\n",
       "      <td>{\"type\": \"Point\", \"coordinates\": [13.4119837, ...</td>\n",
       "      <td>settlement</td>\n",
       "      <td>NaN</td>\n",
       "      <td>NaN</td>\n",
       "      <td>48210385</td>\n",
       "      <td>precise</td>\n",
       "      <td>1453.0</td>\n",
       "      <td>640.0</td>\n",
       "      <td>2016-11-08T21:58:28Z</td>\n",
       "      <td>/places/48210385</td>\n",
       "      <td>42.082885</td>\n",
       "      <td>42.082885,13.4119837</td>\n",
       "      <td>13.411984</td>\n",
       "      <td>NaN</td>\n",
       "      <td>M</td>\n",
       "      <td>mediaeval-byzantine</td>\n",
       "      <td>640.0,1453.0</td>\n",
       "      <td>Borgo Medievale</td>\n",
       "      <td>ece5760c4c6d42c1a331aad543c4ecc4</td>\n",
       "    </tr>\n",
       "    <tr>\n",
       "      <th>1</th>\n",
       "      <td>Becker, J., T. Elliott</td>\n",
       "      <td>11.6285463, 42.4193742, 11.6285463, 42.4193742</td>\n",
       "      <td>413393</td>\n",
       "      <td>2016-11-04T16:39:09Z</td>\n",
       "      <td>jbecker, thomase</td>\n",
       "      <td>2.0</td>\n",
       "      <td>A major urban sanctuary at Vulci with a long p...</td>\n",
       "      <td>{\"type\": \"Point\", \"coordinates\": [11.6285463, ...</td>\n",
       "      <td>temple-2</td>\n",
       "      <td>NaN</td>\n",
       "      <td>NaN</td>\n",
       "      <td>48210386</td>\n",
       "      <td>precise</td>\n",
       "      <td>300.0</td>\n",
       "      <td>-750.0</td>\n",
       "      <td>2016-12-05T11:47:10Z</td>\n",
       "      <td>/places/48210386</td>\n",
       "      <td>42.419374</td>\n",
       "      <td>42.4193742,11.6285463</td>\n",
       "      <td>11.628546</td>\n",
       "      <td>sanctuary, extant remains, temple</td>\n",
       "      <td>ACHR</td>\n",
       "      <td>archaic,classical,hellenistic-republican,roman</td>\n",
       "      <td>-750.0,300.0</td>\n",
       "      <td>Tempio Grande at Vulci</td>\n",
       "      <td>4e06898f2de74dbc9f3a3bdba6d74ba2</td>\n",
       "    </tr>\n",
       "  </tbody>\n",
       "</table>\n",
       "</div>"
      ],
      "text/plain": [
       "                  authors                                            bbox connectsWith               created          creators  currentVersion                                        description                                             extent featureTypes geoContext hasConnectionsWith        id locationPrecision  maxDate  minDate              modified              path    reprLat            reprLatLong   reprLong                               tags timePeriods                                 timePeriodsKeys timePeriodsRange                   title                               uid\n",
       "0  Becker, J., T. Elliott    13.4119837, 42.082885, 13.4119837, 42.082885       413005  2016-11-04T16:36:09Z  jbecker, thomase             1.0  The post-Roman settlement at Alba Fucens becam...  {\"type\": \"Point\", \"coordinates\": [13.4119837, ...   settlement        NaN                NaN  48210385           precise   1453.0    640.0  2016-11-08T21:58:28Z  /places/48210385  42.082885   42.082885,13.4119837  13.411984                                NaN           M                             mediaeval-byzantine     640.0,1453.0         Borgo Medievale  ece5760c4c6d42c1a331aad543c4ecc4\n",
       "1  Becker, J., T. Elliott  11.6285463, 42.4193742, 11.6285463, 42.4193742       413393  2016-11-04T16:39:09Z  jbecker, thomase             2.0  A major urban sanctuary at Vulci with a long p...  {\"type\": \"Point\", \"coordinates\": [11.6285463, ...     temple-2        NaN                NaN  48210386           precise    300.0   -750.0  2016-12-05T11:47:10Z  /places/48210386  42.419374  42.4193742,11.6285463  11.628546  sanctuary, extant remains, temple        ACHR  archaic,classical,hellenistic-republican,roman     -750.0,300.0  Tempio Grande at Vulci  4e06898f2de74dbc9f3a3bdba6d74ba2"
      ]
     },
     "execution_count": 8,
     "metadata": {},
     "output_type": "execute_result"
    }
   ],
   "source": [
    "places.iloc[0:2]"
   ]
  },
  {
   "cell_type": "markdown",
   "id": "f714100b",
   "metadata": {},
   "source": [
    "#### Use the `describe()` method to show basic statistics (mean, median, std, etc.) of numeric columns"
   ]
  },
  {
   "cell_type": "code",
   "execution_count": 9,
   "id": "f12be4f2",
   "metadata": {},
   "outputs": [
    {
     "data": {
      "text/html": [
       "<div>\n",
       "<style scoped>\n",
       "    .dataframe tbody tr th:only-of-type {\n",
       "        vertical-align: middle;\n",
       "    }\n",
       "\n",
       "    .dataframe tbody tr th {\n",
       "        vertical-align: top;\n",
       "    }\n",
       "\n",
       "    .dataframe thead th {\n",
       "        text-align: right;\n",
       "    }\n",
       "</style>\n",
       "<table border=\"1\" class=\"dataframe\">\n",
       "  <thead>\n",
       "    <tr style=\"text-align: right;\">\n",
       "      <th></th>\n",
       "      <th>currentVersion</th>\n",
       "      <th>id</th>\n",
       "      <th>maxDate</th>\n",
       "      <th>minDate</th>\n",
       "      <th>reprLat</th>\n",
       "      <th>reprLong</th>\n",
       "    </tr>\n",
       "  </thead>\n",
       "  <tbody>\n",
       "    <tr>\n",
       "      <th>count</th>\n",
       "      <td>40132.000000</td>\n",
       "      <td>4.037400e+04</td>\n",
       "      <td>37648.00000</td>\n",
       "      <td>37648.000000</td>\n",
       "      <td>32841.000000</td>\n",
       "      <td>32841.000000</td>\n",
       "    </tr>\n",
       "    <tr>\n",
       "      <th>mean</th>\n",
       "      <td>3.861906</td>\n",
       "      <td>5.969153e+12</td>\n",
       "      <td>669.66378</td>\n",
       "      <td>-1260.404802</td>\n",
       "      <td>39.379466</td>\n",
       "      <td>20.256801</td>\n",
       "    </tr>\n",
       "    <tr>\n",
       "      <th>...</th>\n",
       "      <td>...</td>\n",
       "      <td>...</td>\n",
       "      <td>...</td>\n",
       "      <td>...</td>\n",
       "      <td>...</td>\n",
       "      <td>...</td>\n",
       "    </tr>\n",
       "    <tr>\n",
       "      <th>75%</th>\n",
       "      <td>5.000000</td>\n",
       "      <td>8.767158e+05</td>\n",
       "      <td>640.00000</td>\n",
       "      <td>-30.000000</td>\n",
       "      <td>43.471274</td>\n",
       "      <td>31.218177</td>\n",
       "    </tr>\n",
       "    <tr>\n",
       "      <th>max</th>\n",
       "      <td>67.000000</td>\n",
       "      <td>6.521790e+15</td>\n",
       "      <td>2100.00000</td>\n",
       "      <td>2000.000000</td>\n",
       "      <td>62.500000</td>\n",
       "      <td>111.078300</td>\n",
       "    </tr>\n",
       "  </tbody>\n",
       "</table>\n",
       "<p>8 rows × 6 columns</p>\n",
       "</div>"
      ],
      "text/plain": [
       "       currentVersion            id      maxDate       minDate       reprLat      reprLong\n",
       "count    40132.000000  4.037400e+04  37648.00000  37648.000000  32841.000000  32841.000000\n",
       "mean         3.861906  5.969153e+12    669.66378  -1260.404802     39.379466     20.256801\n",
       "...               ...           ...          ...           ...           ...           ...\n",
       "75%          5.000000  8.767158e+05    640.00000    -30.000000     43.471274     31.218177\n",
       "max         67.000000  6.521790e+15   2100.00000   2000.000000     62.500000    111.078300\n",
       "\n",
       "[8 rows x 6 columns]"
      ]
     },
     "execution_count": 9,
     "metadata": {},
     "output_type": "execute_result"
    }
   ],
   "source": [
    "places.describe()"
   ]
  },
  {
   "cell_type": "markdown",
   "id": "5d8a57f6",
   "metadata": {},
   "source": [
    "#### Print the name of the columns"
   ]
  },
  {
   "cell_type": "code",
   "execution_count": 10,
   "id": "a4faa2fd",
   "metadata": {
    "scrolled": false
   },
   "outputs": [
    {
     "name": "stdout",
     "output_type": "stream",
     "text": [
      "authors\n",
      "bbox\n",
      "connectsWith\n",
      "created\n",
      "creators\n",
      "currentVersion\n",
      "description\n",
      "extent\n",
      "featureTypes\n",
      "geoContext\n",
      "hasConnectionsWith\n",
      "id\n",
      "locationPrecision\n",
      "maxDate\n",
      "minDate\n",
      "modified\n",
      "path\n",
      "reprLat\n",
      "reprLatLong\n",
      "reprLong\n",
      "tags\n",
      "timePeriods\n",
      "timePeriodsKeys\n",
      "timePeriodsRange\n",
      "title\n",
      "uid\n"
     ]
    }
   ],
   "source": [
    "for col in places.columns:\n",
    "    print(col)"
   ]
  },
  {
   "cell_type": "markdown",
   "id": "080a80c4",
   "metadata": {},
   "source": [
    "#### Find how many _uniques_ values are in the featureTypes column."
   ]
  },
  {
   "cell_type": "code",
   "execution_count": 11,
   "id": "7e8ccf48",
   "metadata": {},
   "outputs": [
    {
     "name": "stdout",
     "output_type": "stream",
     "text": [
      "1235\n"
     ]
    }
   ],
   "source": [
    "print(places['featureTypes'].nunique()-1)  ## had to subtract one for column heading"
   ]
  },
  {
   "cell_type": "markdown",
   "id": "bd088cc5",
   "metadata": {},
   "source": [
    "Result: 1235"
   ]
  },
  {
   "cell_type": "markdown",
   "id": "6aade5c1",
   "metadata": {},
   "source": [
    "#### Find Athens\n",
    "Hint: It is recorded as \"Athenae.\""
   ]
  },
  {
   "cell_type": "code",
   "execution_count": 12,
   "id": "0113a73f",
   "metadata": {},
   "outputs": [
    {
     "name": "stdout",
     "output_type": "stream",
     "text": [
      "[22109] is the row index Athenae appears on\n"
     ]
    }
   ],
   "source": [
    "## keyword-searched the .csv file, will be in \"title\" column\n",
    "l = []\n",
    "for i in range(len(places.title)):\n",
    "    if 'Athenae' == places.title[i]:\n",
    "        l.append(i)\n",
    "print(str(l) + \" is the row index Athenae appears on\")"
   ]
  },
  {
   "cell_type": "markdown",
   "id": "ef347a08",
   "metadata": {},
   "source": [
    "# Find all sanctuaries.\n",
    "Hint: Have a look first in column \"featureTypes\". There are more than one piece of information in some cells. How does this affect our code? We have to search for cells with strings that contain the string we are looking for."
   ]
  },
  {
   "cell_type": "code",
   "execution_count": 13,
   "id": "dce2294e",
   "metadata": {},
   "outputs": [
    {
     "name": "stdout",
     "output_type": "stream",
     "text": [
      "                                                 authors                                            bbox connectsWith               created                                  creators  currentVersion                                        description                                             extent       featureTypes                      geoContext hasConnectionsWith         id locationPrecision  maxDate  minDate              modified               path    reprLat            reprLatLong   reprLong                                               tags timePeriods                                   timePeriodsKeys timePeriodsRange                     title                               uid\n",
      "19     Spann, P., DARMC, R. Talbert, R. Warner, J. Be...      -1.143263, 38.208848, -1.143263, 38.208848          NaN  2010-09-24T19:02:53Z                                P.O. Spann             5.0      An ancient place, cited: BAtlas 27 D3 Fortuna  {\"type\": \"Point\", \"coordinates\": [-1.143263, 3...          sanctuary  Cueva Negra, 13 miles N Murcia                NaN     265899           precise    300.0   -330.0  2021-10-25T13:19:40Z     /places/265899  38.208848    38.208848,-1.143263  -1.143263  dare:ancient=1, dare:major=0, dare:feature=temple          HR                      hellenistic-republican,roman     -330.0,300.0                   Fortuna  7744c1ce1aef567d7e36bdf87400c205\n",
      "1006   Fentress, E., DARMC, R. Talbert, R. Warner, J....        6.451106, 36.328033, 6.451106, 36.328033          NaN  2010-11-10T18:40:19Z                           E.W.B. Fentress             5.0     An ancient place, cited: BAtlas 31 E4 Chettaba  {\"type\": \"Point\", \"coordinates\": [6.451106, 36...    sanctuary, cave          Chettaba, sacred caves                NaN     305060           precise    300.0   -330.0  2021-11-15T15:45:23Z     /places/305060  36.328033     36.328033,6.451106   6.451106  dare:major=0, dare:ancient=0, dare:feature=temple          HR                      hellenistic-republican,roman     -330.0,300.0                  Chettaba  c359c9a2335230f8014143615fcbda12\n",
      "...                                                  ...                                             ...          ...                   ...                                       ...             ...                                                ...                                                ...                ...                             ...                ...        ...               ...      ...      ...                   ...                ...        ...                    ...        ...                                                ...         ...                                               ...              ...                       ...                               ...\n",
      "39866  Walter, D., E. Brod, Y. Yilmaz, J. Becker, T. ...    29.1270484, 37.926248, 29.1270484, 37.926248       638860  2018-03-15T17:19:12Z  Douglas Walter, Emily Brod, Yeşim Yilmaz            20.0  The Ploutonion at Hierapolis is a walled sanct...  {\"type\": \"Point\", \"coordinates\": [29.1270484, ...  sanctuary, shrine                             NaN                NaN  232079424           precise   2100.0   -330.0  2020-01-13T16:42:58Z  /places/232079424  37.926248   37.926248,29.1270484  29.127048                       sanctuary, Kore, cave, Pluto        HRLM  hellenistic-republican,roman,late-antique,modern    -330.0,2100.0  Ploutonion at Hierapolis  95af82bbb8994ffea012c2fa70d64452\n",
      "39885                                         Becker, J.  -0.1894608, 52.5747722, -0.1894608, 52.5747722          NaN  2013-09-01T00:43:04Z                                   jbecker             2.0  Flag Fen is a Bronze Age ritual site near Pete...  {\"type\": \"Point\", \"coordinates\": [-0.1894608, ...          sanctuary                             NaN                NaN  535275912           precise   -800.0  -2500.0  2021-02-02T23:38:25Z  /places/535275912  52.574772  52.5747722,-0.1894608  -0.189461                                     extant remains           B                                bronze-age-britain   -2500.0,-800.0                  Flag Fen  70327170197c39f92804c0a33f3afe76\n",
      "\n",
      "[606 rows x 26 columns]\n"
     ]
    }
   ],
   "source": [
    "find_sanctuary = places[places['featureTypes'].str.contains('sanctuary', na=False)]\n",
    "print (find_sanctuary)"
   ]
  },
  {
   "cell_type": "markdown",
   "id": "474cb0ed",
   "metadata": {},
   "source": [
    "You may get an error 'ValueError: Cannot mask with non-boolean array containing NA / NaN values'. If yes, then use the argument `na=False` within the `str.contains()` function."
   ]
  },
  {
   "cell_type": "markdown",
   "id": "205ed18f",
   "metadata": {},
   "source": [
    "Result: 606 rows × 26 columns"
   ]
  },
  {
   "cell_type": "markdown",
   "id": "5b76896f",
   "metadata": {},
   "source": [
    "#### Find all temples and sanctuaries\n",
    "Hint: Have a look first in column \"featureTypes\". There are more than one piece of information in some cells. How does this affect your code?"
   ]
  },
  {
   "cell_type": "code",
   "execution_count": 14,
   "id": "1637cfce",
   "metadata": {},
   "outputs": [
    {
     "name": "stdout",
     "output_type": "stream",
     "text": [
      "                                                 authors                                            bbox connectsWith               created          creators  currentVersion                                        description                                             extent featureTypes                      geoContext hasConnectionsWith         id locationPrecision  maxDate  minDate              modified               path    reprLat                 reprLatLong   reprLong                                               tags timePeriods                                    timePeriodsKeys timePeriodsRange                   title                               uid\n",
      "1                                 Becker, J., T. Elliott  11.6285463, 42.4193742, 11.6285463, 42.4193742       413393  2016-11-04T16:39:09Z  jbecker, thomase             2.0  A major urban sanctuary at Vulci with a long p...  {\"type\": \"Point\", \"coordinates\": [11.6285463, ...     temple-2                             NaN                NaN   48210386           precise    300.0   -750.0  2016-12-05T11:47:10Z   /places/48210386  42.419374       42.4193742,11.6285463  11.628546                  sanctuary, extant remains, temple        ACHR     archaic,classical,hellenistic-republican,roman     -750.0,300.0  Tempio Grande at Vulci  4e06898f2de74dbc9f3a3bdba6d74ba2\n",
      "19     Spann, P., DARMC, R. Talbert, R. Warner, J. Be...      -1.143263, 38.208848, -1.143263, 38.208848          NaN  2010-09-24T19:02:53Z        P.O. Spann             5.0      An ancient place, cited: BAtlas 27 D3 Fortuna  {\"type\": \"Point\", \"coordinates\": [-1.143263, 3...    sanctuary  Cueva Negra, 13 miles N Murcia                NaN     265899           precise    300.0   -330.0  2021-10-25T13:19:40Z     /places/265899  38.208848         38.208848,-1.143263  -1.143263  dare:ancient=1, dare:major=0, dare:feature=temple          HR                       hellenistic-republican,roman     -330.0,300.0                 Fortuna  7744c1ce1aef567d7e36bdf87400c205\n",
      "...                                                  ...                                             ...          ...                   ...               ...             ...                                                ...                                                ...          ...                             ...                ...        ...               ...      ...      ...                   ...                ...        ...                         ...        ...                                                ...         ...                                                ...              ...                     ...                               ...\n",
      "40352                              Mckee, G., T. Elliott  45.8867685, 31.6671599, 45.8880979, 31.6685474     44626252  2019-08-30T15:55:07Z            gmckee             2.0  Large temple at Tell Jokha/Umma dedicated to t...  {\"type\": \"Polygon\", \"coordinates\": [[[45.88718...     temple-2                             NaN                NaN  537242705           precise  -1600.0  -2335.0  2019-08-30T21:05:58Z  /places/537242705  31.667848  31.6678479795,45.887425241  45.887425                                                NaN          AO  akkadian-ur-iii-mesopotamia,old-babylonian-ass...  -2335.0,-1600.0    Shara Temple at Umma  0ea6ed47045c4f38a01c2a6626d14d24\n",
      "40372                             Becker, J., T. Elliott  -7.6859672, 42.9800949, -7.6859672, 42.9800949          NaN  2014-01-13T04:47:37Z           jbecker             3.0  The Roman sanctuary of Santalla de Bóveda date...  {\"type\": \"Point\", \"coordinates\": [-7.6859672, ...     temple-2                             NaN                NaN  743134062           precise    640.0    -30.0  2016-06-30T16:47:31Z  /places/743134062  42.980095       42.9800949,-7.6859672  -7.685967                                                NaN          RL                                 roman,late-antique      -30.0,640.0      Santalla de Bóveda  a727adadcde6eb313a9c6af1564e973b\n",
      "\n",
      "[1454 rows x 26 columns]\n"
     ]
    }
   ],
   "source": [
    "find_place = places[places['featureTypes'].str.contains('sanctuary|temple', na=False)]\n",
    "print (find_place)"
   ]
  },
  {
   "cell_type": "markdown",
   "id": "6bc2534c",
   "metadata": {},
   "source": [
    "#### Find which is the northernest, southernest, easternest, and westernest sanctuary of the database."
   ]
  },
  {
   "cell_type": "markdown",
   "id": "935a2043",
   "metadata": {},
   "source": [
    "##### northernest"
   ]
  },
  {
   "cell_type": "code",
   "execution_count": 15,
   "id": "9a0df0ae",
   "metadata": {},
   "outputs": [
    {
     "data": {
      "text/html": [
       "<div>\n",
       "<style scoped>\n",
       "    .dataframe tbody tr th:only-of-type {\n",
       "        vertical-align: middle;\n",
       "    }\n",
       "\n",
       "    .dataframe tbody tr th {\n",
       "        vertical-align: top;\n",
       "    }\n",
       "\n",
       "    .dataframe thead th {\n",
       "        text-align: right;\n",
       "    }\n",
       "</style>\n",
       "<table border=\"1\" class=\"dataframe\">\n",
       "  <thead>\n",
       "    <tr style=\"text-align: right;\">\n",
       "      <th></th>\n",
       "      <th>authors</th>\n",
       "      <th>bbox</th>\n",
       "      <th>connectsWith</th>\n",
       "      <th>created</th>\n",
       "      <th>creators</th>\n",
       "      <th>currentVersion</th>\n",
       "      <th>description</th>\n",
       "      <th>extent</th>\n",
       "      <th>featureTypes</th>\n",
       "      <th>geoContext</th>\n",
       "      <th>hasConnectionsWith</th>\n",
       "      <th>id</th>\n",
       "      <th>locationPrecision</th>\n",
       "      <th>maxDate</th>\n",
       "      <th>minDate</th>\n",
       "      <th>modified</th>\n",
       "      <th>path</th>\n",
       "      <th>reprLat</th>\n",
       "      <th>reprLatLong</th>\n",
       "      <th>reprLong</th>\n",
       "      <th>tags</th>\n",
       "      <th>timePeriods</th>\n",
       "      <th>timePeriodsKeys</th>\n",
       "      <th>timePeriodsRange</th>\n",
       "      <th>title</th>\n",
       "      <th>uid</th>\n",
       "    </tr>\n",
       "  </thead>\n",
       "  <tbody>\n",
       "    <tr>\n",
       "      <th>29964</th>\n",
       "      <td>Warner, R., A. Bursche, R. Talbert, S. Gillies...</td>\n",
       "      <td>5.0, 60.0, 10.0, 65.0</td>\n",
       "      <td>NaN</td>\n",
       "      <td>2010-09-22T20:46:22Z</td>\n",
       "      <td>R. Warner, A. Bursche</td>\n",
       "      <td>3.0</td>\n",
       "      <td>The sixth century AD historian Iordanes descri...</td>\n",
       "      <td>{\"type\": \"Polygon\", \"coordinates\": [[[5.0, 60....</td>\n",
       "      <td>region</td>\n",
       "      <td>NOR/SWE</td>\n",
       "      <td>NaN</td>\n",
       "      <td>20595</td>\n",
       "      <td>rough</td>\n",
       "      <td>640.0</td>\n",
       "      <td>300.0</td>\n",
       "      <td>2013-10-27T15:41:29Z</td>\n",
       "      <td>/places/20595</td>\n",
       "      <td>62.5</td>\n",
       "      <td>62.5,7.5</td>\n",
       "      <td>7.5</td>\n",
       "      <td>NaN</td>\n",
       "      <td>L</td>\n",
       "      <td>late-antique</td>\n",
       "      <td>300.0,640.0</td>\n",
       "      <td>Scadinavia/Scandza</td>\n",
       "      <td>ea9d282bba80ccfc5c21e40562bc3d6b</td>\n",
       "    </tr>\n",
       "  </tbody>\n",
       "</table>\n",
       "</div>"
      ],
      "text/plain": [
       "                                                 authors                   bbox connectsWith               created               creators  currentVersion                                        description                                             extent featureTypes geoContext hasConnectionsWith     id locationPrecision  maxDate  minDate              modified           path  reprLat reprLatLong  reprLong tags timePeriods timePeriodsKeys timePeriodsRange               title                               uid\n",
       "29964  Warner, R., A. Bursche, R. Talbert, S. Gillies...  5.0, 60.0, 10.0, 65.0          NaN  2010-09-22T20:46:22Z  R. Warner, A. Bursche             3.0  The sixth century AD historian Iordanes descri...  {\"type\": \"Polygon\", \"coordinates\": [[[5.0, 60....       region    NOR/SWE                NaN  20595             rough    640.0    300.0  2013-10-27T15:41:29Z  /places/20595     62.5    62.5,7.5       7.5  NaN           L    late-antique      300.0,640.0  Scadinavia/Scandza  ea9d282bba80ccfc5c21e40562bc3d6b"
      ]
     },
     "execution_count": 15,
     "metadata": {},
     "output_type": "execute_result"
    }
   ],
   "source": [
    "## This will be the largest latitude in column 'reprLat'\n",
    "largest_lat = places['reprLat'].max()\n",
    "places.loc[places['reprLat'] == largest_lat]"
   ]
  },
  {
   "cell_type": "markdown",
   "id": "8cb9f953",
   "metadata": {},
   "source": [
    "##### southernest"
   ]
  },
  {
   "cell_type": "code",
   "execution_count": 16,
   "id": "1af0b74c",
   "metadata": {},
   "outputs": [
    {
     "data": {
      "text/html": [
       "<div>\n",
       "<style scoped>\n",
       "    .dataframe tbody tr th:only-of-type {\n",
       "        vertical-align: middle;\n",
       "    }\n",
       "\n",
       "    .dataframe tbody tr th {\n",
       "        vertical-align: top;\n",
       "    }\n",
       "\n",
       "    .dataframe thead th {\n",
       "        text-align: right;\n",
       "    }\n",
       "</style>\n",
       "<table border=\"1\" class=\"dataframe\">\n",
       "  <thead>\n",
       "    <tr style=\"text-align: right;\">\n",
       "      <th></th>\n",
       "      <th>authors</th>\n",
       "      <th>bbox</th>\n",
       "      <th>connectsWith</th>\n",
       "      <th>created</th>\n",
       "      <th>creators</th>\n",
       "      <th>currentVersion</th>\n",
       "      <th>description</th>\n",
       "      <th>extent</th>\n",
       "      <th>featureTypes</th>\n",
       "      <th>geoContext</th>\n",
       "      <th>hasConnectionsWith</th>\n",
       "      <th>id</th>\n",
       "      <th>locationPrecision</th>\n",
       "      <th>maxDate</th>\n",
       "      <th>minDate</th>\n",
       "      <th>modified</th>\n",
       "      <th>path</th>\n",
       "      <th>reprLat</th>\n",
       "      <th>reprLatLong</th>\n",
       "      <th>reprLong</th>\n",
       "      <th>tags</th>\n",
       "      <th>timePeriods</th>\n",
       "      <th>timePeriodsKeys</th>\n",
       "      <th>timePeriodsRange</th>\n",
       "      <th>title</th>\n",
       "      <th>uid</th>\n",
       "    </tr>\n",
       "  </thead>\n",
       "  <tbody>\n",
       "    <tr>\n",
       "      <th>1774</th>\n",
       "      <td>Hausleiter, A., M. Roaf, St J. Simpson, R. Wen...</td>\n",
       "      <td>31.1406026, -29.5443422, 31.1411004, -29.5432314</td>\n",
       "      <td>NaN</td>\n",
       "      <td>2022-07-26T20:32:13Z</td>\n",
       "      <td>A. Hausleiter, M. Roaf, St J. Simpson, R. Wenke</td>\n",
       "      <td>4.0</td>\n",
       "      <td>Kas(h)kar was a significant Sasanian city, ori...</td>\n",
       "      <td>{\"type\": \"Polygon\", \"coordinates\": [[[31.14060...</td>\n",
       "      <td>settlement, settlement-modern</td>\n",
       "      <td>opposite Wasit IRQ</td>\n",
       "      <td>NaN</td>\n",
       "      <td>912880</td>\n",
       "      <td>precise</td>\n",
       "      <td>2099.0</td>\n",
       "      <td>-30.0</td>\n",
       "      <td>2022-07-27T02:08:12Z</td>\n",
       "      <td>/places/912880</td>\n",
       "      <td>-29.54377</td>\n",
       "      <td>-29.5437696898,31.1408074997</td>\n",
       "      <td>31.140807</td>\n",
       "      <td>NaN</td>\n",
       "      <td>RLT</td>\n",
       "      <td>roman,late-antique,twenty-first-ce</td>\n",
       "      <td>-30.0,2099.0</td>\n",
       "      <td>Kas(h)kar</td>\n",
       "      <td>91cbfced9f7047504fe506c711ac3862</td>\n",
       "    </tr>\n",
       "  </tbody>\n",
       "</table>\n",
       "</div>"
      ],
      "text/plain": [
       "                                                authors                                              bbox connectsWith               created                                         creators  currentVersion                                        description                                             extent                   featureTypes          geoContext hasConnectionsWith      id locationPrecision  maxDate  minDate              modified            path   reprLat                   reprLatLong   reprLong tags timePeriods                     timePeriodsKeys timePeriodsRange      title                               uid\n",
       "1774  Hausleiter, A., M. Roaf, St J. Simpson, R. Wen...  31.1406026, -29.5443422, 31.1411004, -29.5432314          NaN  2022-07-26T20:32:13Z  A. Hausleiter, M. Roaf, St J. Simpson, R. Wenke             4.0  Kas(h)kar was a significant Sasanian city, ori...  {\"type\": \"Polygon\", \"coordinates\": [[[31.14060...  settlement, settlement-modern  opposite Wasit IRQ                NaN  912880           precise   2099.0    -30.0  2022-07-27T02:08:12Z  /places/912880 -29.54377  -29.5437696898,31.1408074997  31.140807  NaN         RLT  roman,late-antique,twenty-first-ce     -30.0,2099.0  Kas(h)kar  91cbfced9f7047504fe506c711ac3862"
      ]
     },
     "execution_count": 16,
     "metadata": {},
     "output_type": "execute_result"
    }
   ],
   "source": [
    "## This will be the smallest latitude in column 'reprLong'\n",
    "smallest_lat = places['reprLat'].min()\n",
    "places.loc[places['reprLat'] == smallest_lat]"
   ]
  },
  {
   "cell_type": "markdown",
   "id": "936c1a2e",
   "metadata": {},
   "source": [
    "##### easternest"
   ]
  },
  {
   "cell_type": "code",
   "execution_count": 17,
   "id": "2e338475",
   "metadata": {},
   "outputs": [
    {
     "data": {
      "text/html": [
       "<div>\n",
       "<style scoped>\n",
       "    .dataframe tbody tr th:only-of-type {\n",
       "        vertical-align: middle;\n",
       "    }\n",
       "\n",
       "    .dataframe tbody tr th {\n",
       "        vertical-align: top;\n",
       "    }\n",
       "\n",
       "    .dataframe thead th {\n",
       "        text-align: right;\n",
       "    }\n",
       "</style>\n",
       "<table border=\"1\" class=\"dataframe\">\n",
       "  <thead>\n",
       "    <tr style=\"text-align: right;\">\n",
       "      <th></th>\n",
       "      <th>authors</th>\n",
       "      <th>bbox</th>\n",
       "      <th>connectsWith</th>\n",
       "      <th>created</th>\n",
       "      <th>creators</th>\n",
       "      <th>currentVersion</th>\n",
       "      <th>description</th>\n",
       "      <th>extent</th>\n",
       "      <th>featureTypes</th>\n",
       "      <th>geoContext</th>\n",
       "      <th>hasConnectionsWith</th>\n",
       "      <th>id</th>\n",
       "      <th>locationPrecision</th>\n",
       "      <th>maxDate</th>\n",
       "      <th>minDate</th>\n",
       "      <th>modified</th>\n",
       "      <th>path</th>\n",
       "      <th>reprLat</th>\n",
       "      <th>reprLatLong</th>\n",
       "      <th>reprLong</th>\n",
       "      <th>tags</th>\n",
       "      <th>timePeriods</th>\n",
       "      <th>timePeriodsKeys</th>\n",
       "      <th>timePeriodsRange</th>\n",
       "      <th>title</th>\n",
       "      <th>uid</th>\n",
       "    </tr>\n",
       "  </thead>\n",
       "  <tbody>\n",
       "    <tr>\n",
       "      <th>24655</th>\n",
       "      <td>Mckee, G., J. Becker</td>\n",
       "      <td>111.077259, 48.5376447, 111.0793082, 48.5392573</td>\n",
       "      <td>NaN</td>\n",
       "      <td>2017-11-01T18:00:55Z</td>\n",
       "      <td>gmckee</td>\n",
       "      <td>3.0</td>\n",
       "      <td>Xiongnu tomb site near the modern village of B...</td>\n",
       "      <td>{\"type\": \"Polygon\", \"coordinates\": [[[111.0784...</td>\n",
       "      <td>tomb</td>\n",
       "      <td>NaN</td>\n",
       "      <td>NaN</td>\n",
       "      <td>475881408</td>\n",
       "      <td>precise</td>\n",
       "      <td>250.0</td>\n",
       "      <td>-330.0</td>\n",
       "      <td>2020-11-07T03:26:08Z</td>\n",
       "      <td>/places/475881408</td>\n",
       "      <td>48.53836</td>\n",
       "      <td>48.5383602338,111.07830005</td>\n",
       "      <td>111.0783</td>\n",
       "      <td>UWHS Submitted</td>\n",
       "      <td>HKFS</td>\n",
       "      <td>hellenistic-central-asia,kangju-yuezhi-kushan-...</td>\n",
       "      <td>-330.0,250.0</td>\n",
       "      <td>Duurlig Nars</td>\n",
       "      <td>b533f3c95f904e12bc791209cd4650a1</td>\n",
       "    </tr>\n",
       "  </tbody>\n",
       "</table>\n",
       "</div>"
      ],
      "text/plain": [
       "                    authors                                             bbox connectsWith               created creators  currentVersion                                        description                                             extent featureTypes geoContext hasConnectionsWith         id locationPrecision  maxDate  minDate              modified               path   reprLat                 reprLatLong  reprLong            tags timePeriods                                    timePeriodsKeys timePeriodsRange         title                               uid\n",
       "24655  Mckee, G., J. Becker  111.077259, 48.5376447, 111.0793082, 48.5392573          NaN  2017-11-01T18:00:55Z   gmckee             3.0  Xiongnu tomb site near the modern village of B...  {\"type\": \"Polygon\", \"coordinates\": [[[111.0784...         tomb        NaN                NaN  475881408           precise    250.0   -330.0  2020-11-07T03:26:08Z  /places/475881408  48.53836  48.5383602338,111.07830005  111.0783  UWHS Submitted        HKFS  hellenistic-central-asia,kangju-yuezhi-kushan-...     -330.0,250.0  Duurlig Nars  b533f3c95f904e12bc791209cd4650a1"
      ]
     },
     "execution_count": 17,
     "metadata": {},
     "output_type": "execute_result"
    }
   ],
   "source": [
    "## This will be the largest longitude in column 'reprLong'\n",
    "largest_long = places['reprLong'].max()\n",
    "places.loc[places['reprLong'] == largest_long]"
   ]
  },
  {
   "cell_type": "markdown",
   "id": "231bad55",
   "metadata": {},
   "source": [
    "##### westernest"
   ]
  },
  {
   "cell_type": "code",
   "execution_count": 18,
   "id": "eb178759",
   "metadata": {},
   "outputs": [
    {
     "data": {
      "text/html": [
       "<div>\n",
       "<style scoped>\n",
       "    .dataframe tbody tr th:only-of-type {\n",
       "        vertical-align: middle;\n",
       "    }\n",
       "\n",
       "    .dataframe tbody tr th {\n",
       "        vertical-align: top;\n",
       "    }\n",
       "\n",
       "    .dataframe thead th {\n",
       "        text-align: right;\n",
       "    }\n",
       "</style>\n",
       "<table border=\"1\" class=\"dataframe\">\n",
       "  <thead>\n",
       "    <tr style=\"text-align: right;\">\n",
       "      <th></th>\n",
       "      <th>authors</th>\n",
       "      <th>bbox</th>\n",
       "      <th>connectsWith</th>\n",
       "      <th>created</th>\n",
       "      <th>creators</th>\n",
       "      <th>currentVersion</th>\n",
       "      <th>description</th>\n",
       "      <th>extent</th>\n",
       "      <th>featureTypes</th>\n",
       "      <th>geoContext</th>\n",
       "      <th>hasConnectionsWith</th>\n",
       "      <th>id</th>\n",
       "      <th>locationPrecision</th>\n",
       "      <th>maxDate</th>\n",
       "      <th>minDate</th>\n",
       "      <th>modified</th>\n",
       "      <th>path</th>\n",
       "      <th>reprLat</th>\n",
       "      <th>reprLatLong</th>\n",
       "      <th>reprLong</th>\n",
       "      <th>tags</th>\n",
       "      <th>timePeriods</th>\n",
       "      <th>timePeriodsKeys</th>\n",
       "      <th>timePeriodsRange</th>\n",
       "      <th>title</th>\n",
       "      <th>uid</th>\n",
       "    </tr>\n",
       "  </thead>\n",
       "  <tbody>\n",
       "    <tr>\n",
       "      <th>2541</th>\n",
       "      <td>Pearce, M., P. Tozzi, DARMC, R. Talbert, S. Gi...</td>\n",
       "      <td>-117.221676, 34.132162, -117.221676, 34.132162</td>\n",
       "      <td>NaN</td>\n",
       "      <td>2010-11-15T17:54:49Z</td>\n",
       "      <td>M. Pearce, P. Tozzi</td>\n",
       "      <td>8.0</td>\n",
       "      <td>An ancient place, cited: BAtlas 39 D5 Alba Doc...</td>\n",
       "      <td>{\"type\": \"Point\", \"coordinates\": [-117.221676,...</td>\n",
       "      <td>station, archaeological-site</td>\n",
       "      <td>Albisola</td>\n",
       "      <td>NaN</td>\n",
       "      <td>383563</td>\n",
       "      <td>precise</td>\n",
       "      <td>640.0</td>\n",
       "      <td>-30.0</td>\n",
       "      <td>2023-04-04T23:42:38Z</td>\n",
       "      <td>/places/383563</td>\n",
       "      <td>34.132162</td>\n",
       "      <td>34.132162,-117.221676</td>\n",
       "      <td>-117.221676</td>\n",
       "      <td>dare:ancient=1, dare:major=0, dare:feature=sta...</td>\n",
       "      <td>RL</td>\n",
       "      <td>roman,late-antique</td>\n",
       "      <td>-30.0,640.0</td>\n",
       "      <td>Alba Docilia</td>\n",
       "      <td>ca9b667dcc6764585883ac16d764a08c</td>\n",
       "    </tr>\n",
       "  </tbody>\n",
       "</table>\n",
       "</div>"
      ],
      "text/plain": [
       "                                                authors                                            bbox connectsWith               created             creators  currentVersion                                        description                                             extent                  featureTypes geoContext hasConnectionsWith      id locationPrecision  maxDate  minDate              modified            path    reprLat            reprLatLong    reprLong                                               tags timePeriods     timePeriodsKeys timePeriodsRange         title                               uid\n",
       "2541  Pearce, M., P. Tozzi, DARMC, R. Talbert, S. Gi...  -117.221676, 34.132162, -117.221676, 34.132162          NaN  2010-11-15T17:54:49Z  M. Pearce, P. Tozzi             8.0  An ancient place, cited: BAtlas 39 D5 Alba Doc...  {\"type\": \"Point\", \"coordinates\": [-117.221676,...  station, archaeological-site   Albisola                NaN  383563           precise    640.0    -30.0  2023-04-04T23:42:38Z  /places/383563  34.132162  34.132162,-117.221676 -117.221676  dare:ancient=1, dare:major=0, dare:feature=sta...          RL  roman,late-antique      -30.0,640.0  Alba Docilia  ca9b667dcc6764585883ac16d764a08c"
      ]
     },
     "execution_count": 18,
     "metadata": {},
     "output_type": "execute_result"
    }
   ],
   "source": [
    "## This will be the smallest longitude in column 'reprLong'\n",
    "smallest_long = places['reprLong'].min()\n",
    "places.loc[places['reprLong'] == smallest_long]"
   ]
  },
  {
   "cell_type": "markdown",
   "id": "7bd26c15",
   "metadata": {},
   "source": [
    "---"
   ]
  },
  {
   "cell_type": "markdown",
   "id": "5427902d",
   "metadata": {},
   "source": [
    "#### By using the methin `isin()`, check which items of list1 are _not_ in list2.\n",
    "Hint: The following code creates two list of numbers from 1 to 100, removes randomly one number from each of them, and transforms the lists to Series."
   ]
  },
  {
   "cell_type": "code",
   "execution_count": 22,
   "id": "dd952685",
   "metadata": {},
   "outputs": [],
   "source": [
    "list1 = [i for i in range(1,101)]\n",
    "list1.pop(randint(1, 101))\n",
    "ser1 = pd.Series(list1)\n",
    "list2 = [i for i in range(1,101)]\n",
    "list2.pop(randint(1, 101))\n",
    "ser2 = pd.Series(list2)"
   ]
  },
  {
   "cell_type": "code",
   "execution_count": 27,
   "id": "f266c589",
   "metadata": {},
   "outputs": [
    {
     "name": "stdout",
     "output_type": "stream",
     "text": [
      "57\n"
     ]
    }
   ],
   "source": [
    "output = ser1.isin(ser2) ## create boolean series\n",
    "output_dict = output.to_dict() ## turn boolean series into dictionary\n",
    "output_dict_keys = list(output_dict.keys()) ## index the keys\n",
    "output_dict_values = list(output_dict.values()) ## index the values\n",
    "false_index = output_dict_values.index(False) ## find the index of the value that is false\n",
    "result = output_dict_keys[false_index] ## use the false value index to find the corresponding number\n",
    "print(result)"
   ]
  },
  {
   "cell_type": "markdown",
   "id": "b929a9db",
   "metadata": {},
   "source": [
    "---"
   ]
  }
 ],
 "metadata": {
  "kernelspec": {
   "display_name": "Python 3 (ipykernel)",
   "language": "python",
   "name": "python3"
  },
  "language_info": {
   "codemirror_mode": {
    "name": "ipython",
    "version": 3
   },
   "file_extension": ".py",
   "mimetype": "text/x-python",
   "name": "python",
   "nbconvert_exporter": "python",
   "pygments_lexer": "ipython3",
   "version": "3.11.4"
  }
 },
 "nbformat": 4,
 "nbformat_minor": 5
}
