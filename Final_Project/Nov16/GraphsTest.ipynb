{
 "cells": [
  {
   "cell_type": "code",
   "execution_count": 2,
   "id": "ff817a46",
   "metadata": {},
   "outputs": [],
   "source": [
    "# from youtube video:\n",
    "# https://www.youtube.com/watch?v=ollW8lwZxNE"
   ]
  },
  {
   "cell_type": "code",
   "execution_count": 3,
   "id": "348f2c60",
   "metadata": {},
   "outputs": [],
   "source": [
    "# Import the necessary python packages\n",
    "import networkx as nx\n",
    "import matplotlib.pyplot as plt"
   ]
  },
  {
   "cell_type": "code",
   "execution_count": 4,
   "id": "51a007e4",
   "metadata": {},
   "outputs": [],
   "source": [
    "D = nx.Graph()"
   ]
  },
  {
   "cell_type": "code",
   "execution_count": 5,
   "id": "5349be31",
   "metadata": {},
   "outputs": [],
   "source": [
    "D.add_node(\"a\")\n",
    "D.add_node(\"b\")\n",
    "D.add_node(\"c\")\n",
    "D.add_node(\"d\")\n",
    "D.add_node(\"e\")\n",
    "D.add_node(\"f\")\n",
    "D.add_node(\"g\")\n",
    "D.add_node(\"h\")\n",
    "D.add_node(\"i\")\n",
    "D.add_node(\"j\")\n",
    "D.add_node(\"k\")\n",
    "D.add_node(\"l\")\n",
    "D.add_node(\"m\")\n",
    "D.add_node(\"n\")\n",
    "D.add_node(\"o\")\n",
    "D.add_node(\"p\")"
   ]
  },
  {
   "cell_type": "code",
   "execution_count": 6,
   "id": "323dd504",
   "metadata": {},
   "outputs": [],
   "source": [
    "D.add_edge(\"a\",\"b\")\n",
    "D.add_edge(\"a\",\"p\")\n",
    "D.add_edge(\"p\",\"o\")\n",
    "D.add_edge(\"o\",\"b\")\n",
    "D.add_edge(\"o\",\"n\")\n",
    "D.add_edge(\"n\",\"l\")\n",
    "D.add_edge(\"l\",\"m\")\n",
    "D.add_edge(\"l\",\"d\")\n",
    "D.add_edge(\"d\",\"b\")\n",
    "D.add_edge(\"a\",\"c\")\n",
    "D.add_edge(\"d\",\"c\")\n",
    "D.add_edge(\"l\",\"k\")\n",
    "D.add_edge(\"k\",\"j\")\n",
    "D.add_edge(\"j\",\"i\")\n",
    "D.add_edge(\"h\",\"i\")\n",
    "D.add_edge(\"h\",\"f\")\n",
    "D.add_edge(\"f\",\"d\")\n",
    "D.add_edge(\"c\",\"e\")\n",
    "D.add_edge(\"e\",\"g\")\n",
    "D.add_edge(\"g\",\"j\")"
   ]
  },
  {
   "cell_type": "code",
   "execution_count": 56,
   "id": "9f9337ea",
   "metadata": {},
   "outputs": [],
   "source": [
    "D.add_edge(\"a\",\"b\", length = (1/2.24))\n",
    "D.add_edge(\"a\",\"p\", length = (1/7))\n",
    "D.add_edge(\"p\",\"o\", length = (1/2))\n",
    "D.add_edge(\"o\",\"b\", length = (1/6))\n",
    "D.add_edge(\"o\",\"n\", length = (1/4))\n",
    "D.add_edge(\"n\",\"l\", length = (1/2))\n",
    "D.add_edge(\"l\",\"m\", length = (1/3))\n",
    "D.add_edge(\"l\",\"d\", length = (1/4))\n",
    "D.add_edge(\"d\",\"b\", length = (1/4))\n",
    "D.add_edge(\"a\",\"c\", length = (1/6))\n",
    "D.add_edge(\"d\",\"c\", length = (1/1))\n",
    "D.add_edge(\"l\",\"k\", length = (1/4))\n",
    "D.add_edge(\"k\",\"j\", length = (1/1))\n",
    "D.add_edge(\"j\",\"i\", length = (1/1))\n",
    "D.add_edge(\"h\",\"i\", length = (1/2))\n",
    "D.add_edge(\"h\",\"f\", length = (1/2))\n",
    "D.add_edge(\"f\",\"d\", length = (1/6))\n",
    "D.add_edge(\"c\",\"e\", length = (1/9))\n",
    "D.add_edge(\"e\",\"g\", length = (1/4))\n",
    "D.add_edge(\"g\",\"j\", length = (1/5))"
   ]
  },
  {
   "cell_type": "code",
   "execution_count": 57,
   "id": "042de2de",
   "metadata": {},
   "outputs": [],
   "source": [
    "# Set your node options\n",
    "node_options = {\"node_color\": \"black\", \"node_size\": 1}\n",
    "\n",
    "# Set your edge options\n",
    "edge_options = {\"width\": .50, \"alpha\": .5, \"edge_color\": \"black\"}\n",
    "\n",
    "# Set your node label options\n",
    "node_label_options = {\"font_size\": 200,\n",
    "                      \"font_color\": \"red\",\n",
    "                      \"verticalalignment\": \"bottom\",\n",
    "                      \"horizontalalignment\": \"left\"}"
   ]
  },
  {
   "cell_type": "code",
   "execution_count": 58,
   "id": "b96f0174",
   "metadata": {},
   "outputs": [
    {
     "data": {
      "image/png": "[encoded data removed]",
      "text/plain": [
       "<Figure size 640x480 with 1 Axes>"
      ]
     },
     "metadata": {},
     "output_type": "display_data"
    }
   ],
   "source": [
    "nx.draw(D, **node_options, **edge_options, with_labels=True)"
   ]
  },
  {
   "cell_type": "code",
   "execution_count": null,
   "id": "385f2bf6",
   "metadata": {},
   "outputs": [],
   "source": [
    "# Because I just want to do plotting, maybe will just use matplotlib or netgraph.  Another option would be precicely locating points though an algorithm that takes edge lengths.  What about curved paths?  Also what about North orientation because map?  What about 3d visualization for time and putting an image overlay on it?"
   ]
  }
 ],
 "metadata": {
  "kernelspec": {
   "display_name": "Python 3 (ipykernel)",
   "language": "python",
   "name": "python3"
  },
  "language_info": {
   "codemirror_mode": {
    "name": "ipython",
    "version": 3
   },
   "file_extension": ".py",
   "mimetype": "text/x-python",
   "name": "python",
   "nbconvert_exporter": "python",
   "pygments_lexer": "ipython3",
   "version": "3.11.4"
  }
 },
 "nbformat": 4,
 "nbformat_minor": 5
}
