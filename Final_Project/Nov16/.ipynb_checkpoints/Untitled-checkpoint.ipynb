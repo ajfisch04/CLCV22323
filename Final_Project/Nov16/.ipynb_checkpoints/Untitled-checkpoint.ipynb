{
 "cells": [
  {
   "cell_type": "code",
   "execution_count": null,
   "id": "93c837c9",
   "metadata": {},
   "outputs": [],
   "source": [
    "# from youtube video:\n",
    "# https://www.youtube.com/watch?v=ollW8lwZxNE"
   ]
  },
  {
   "cell_type": "code",
   "execution_count": null,
   "id": "7cf05e16",
   "metadata": {},
   "outputs": [],
   "source": [
    "# Import the necessary python packages\n",
    "import networkx as nx\n",
    "import matplotlib.pyplot as plt"
   ]
  },
  {
   "cell_type": "code",
   "execution_count": null,
   "id": "6191292c",
   "metadata": {},
   "outputs": [],
   "source": [
    "D = nx.Graph()"
   ]
  },
  {
   "cell_type": "code",
   "execution_count": null,
   "id": "b7e53dc6",
   "metadata": {},
   "outputs": [],
   "source": [
    "D.add_node(\"a\")\n",
    "D.add_node(\"b\")\n",
    "D.add_node(\"c\")\n",
    "D.add_node(\"d\")\n",
    "D.add_node(\"e\")\n",
    "D.add_node(\"f\")\n",
    "D.add_node(\"g\")\n",
    "D.add_node(\"h\")\n",
    "D.add_node(\"i\")\n",
    "D.add_node(\"j\")\n",
    "D.add_node(\"k\")\n",
    "D.add_node(\"l\")\n",
    "D.add_node(\"m\")\n",
    "D.add_node(\"n\")\n",
    "D.add_node(\"o\")\n",
    "D.add_node(\"p\")"
   ]
  },
  {
   "cell_type": "code",
   "execution_count": null,
   "id": "e97dae61",
   "metadata": {},
   "outputs": [],
   "source": [
    "D.add_edge(\"a\",\"b\")\n",
    "D.add_edge(\"a\",\"p\")\n",
    "D.add_edge(\"p\",\"o\")\n",
    "D.add_edge(\"o\",\"b\")\n",
    "D.add_edge(\"o\",\"n\")\n",
    "D.add_edge(\"n\",\"l\")\n",
    "D.add_edge(\"l\",\"m\")\n",
    "D.add_edge(\"l\",\"d\")\n",
    "D.add_edge(\"d\",\"b\")\n",
    "D.add_edge(\"a\",\"c\")\n",
    "D.add_edge(\"d\",\"c\")\n",
    "D.add_edge(\"l\",\"k\")\n",
    "D.add_edge(\"k\",\"j\")\n",
    "D.add_edge(\"j\",\"i\")\n",
    "D.add_edge(\"h\",\"i\")\n",
    "D.add_edge(\"h\",\"f\")\n",
    "D.add_edge(\"f\",\"d\")\n",
    "D.add_edge(\"c\",\"e\")\n",
    "D.add_edge(\"e\",\"g\")\n",
    "D.add_edge(\"g\",\"j\")"
   ]
  }
 ],
 "metadata": {
  "kernelspec": {
   "display_name": "Python 3 (ipykernel)",
   "language": "python",
   "name": "python3"
  },
  "language_info": {
   "codemirror_mode": {
    "name": "ipython",
    "version": 3
   },
   "file_extension": ".py",
   "mimetype": "text/x-python",
   "name": "python",
   "nbconvert_exporter": "python",
   "pygments_lexer": "ipython3",
   "version": "3.11.4"
  }
 },
 "nbformat": 4,
 "nbformat_minor": 5
}
