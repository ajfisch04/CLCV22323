{
 "cells": [
  {
   "cell_type": "code",
   "execution_count": null,
   "id": "3deac24c",
   "metadata": {},
   "outputs": [],
   "source": [
    "# Because I just want to do plotting, maybe will just use matplotlib or netgraph.  Another option would be precicely locating points though an algorithm that takes edge lengths.  What about curved paths?  Also what about North orientation because map?  What about 3d visualization for time and putting an image overlay on it?"
   ]
  },
  {
   "cell_type": "code",
   "execution_count": null,
   "id": "863e031f",
   "metadata": {},
   "outputs": [],
   "source": [
    "# Points latitude & longitude\n",
    "# Time as a separate overlay\n",
    "# Try NetworkX with precise point locations"
   ]
  },
  {
   "cell_type": "code",
   "execution_count": 11,
   "id": "2de326ca",
   "metadata": {
    "scrolled": true
   },
   "outputs": [
    {
     "data": {
      "image/png": "[encoded data removed]",
      "text/plain": [
       "<Figure size 640x480 with 1 Axes>"
      ]
     },
     "metadata": {},
     "output_type": "display_data"
    }
   ],
   "source": [
    "import networkx as nx\n",
    "import math\n",
    "\n",
    "latdict = {'a': 41.88723649714866,\n",
    "           'b': 41.887447919061145,\n",
    "           'c': 41.88794964465686,\n",
    "           'd': 41.887958620006955,\n",
    "           'e': 41.88865165877651,\n",
    "           'f': 41.88841728631393,\n",
    "           'g': 41.88869377248725,\n",
    "           'h': 41.88842644150437,\n",
    "           'i': 41.88831474809116,\n",
    "           'j': 41.88830925496744,\n",
    "           'k': 41.88811152956582,\n",
    "           'l': 41.887846027201064,\n",
    "           'm': 41.887617144957964,\n",
    "           'n': 41.88784419613788,\n",
    "           'o': 41.88747798415849,\n",
    "           'p': 41.887208817005565}\n",
    "longdict = {'a': -87.80072244202847,\n",
    "            'b': -87.80039905000933,\n",
    "            'c': -87.8007594116935,\n",
    "            'd': -87.80043991923705,\n",
    "            'e': -87.80079264324041,\n",
    "            'f': -87.80045567849649,\n",
    "            'g': -87.80014330971927,\n",
    "            'h': -87.80027366834283,\n",
    "            'i': -87.80026137035948,\n",
    "            'j': -87.80011133496254,\n",
    "            'k': -87.80015850415965,\n",
    "            'l': -87.80018310012638,\n",
    "            'm': -87.80019293851191,\n",
    "            'n': -87.79980924143123,\n",
    "            'o': -87.7997698878845,\n",
    "            'p': -87.79975513030358}\n",
    "\n",
    "'''D.add_node('a',pos=(latdict.get('a'),longdict.get('a')))\n",
    "D.add_node('b',pos=(latdict.get('b'),longdict.get('b')))\n",
    "D.add_node('c',pos=(latdict.get('c'),longdict.get('c')))\n",
    "D.add_node('d',pos=(latdict.get('d'),longdict.get('d')))\n",
    "D.add_node('e',pos=(latdict.get('e'),longdict.get('e')))\n",
    "D.add_node('f',pos=(latdict.get('f'),longdict.get('f')))\n",
    "D.add_node('g',pos=(latdict.get('g'),longdict.get('g')))\n",
    "D.add_node('h',pos=(latdict.get('h'),longdict.get('h')))\n",
    "D.add_node('i',pos=(latdict.get('i'),longdict.get('i')))\n",
    "D.add_node('j',pos=(latdict.get('j'),longdict.get('j')))\n",
    "D.add_node('k',pos=(latdict.get('k'),longdict.get('k')))\n",
    "D.add_node('l',pos=(latdict.get('l'),longdict.get('l')))\n",
    "D.add_node('m',pos=(latdict.get('m'),longdict.get('m')))\n",
    "D.add_node('n',pos=(latdict.get('n'),longdict.get('n')))\n",
    "D.add_node('o',pos=(latdict.get('o'),longdict.get('o')))\n",
    "D.add_node('p',pos=(latdict.get('p'),longdict.get('p')))'''\n",
    "\n",
    "D.add_node('a',pos=(longdict.get('a'),latdict.get('a')))\n",
    "D.add_node('b',pos=(longdict.get('b'),latdict.get('b')))\n",
    "D.add_node('c',pos=(longdict.get('c'),latdict.get('c')))\n",
    "D.add_node('d',pos=(longdict.get('d'),latdict.get('d')))\n",
    "D.add_node('e',pos=(longdict.get('e'),latdict.get('e')))\n",
    "D.add_node('f',pos=(longdict.get('f'),latdict.get('f')))\n",
    "D.add_node('g',pos=(longdict.get('g'),latdict.get('g')))\n",
    "D.add_node('h',pos=(longdict.get('h'),latdict.get('h')))\n",
    "D.add_node('i',pos=(longdict.get('i'),latdict.get('i')))\n",
    "D.add_node('j',pos=(longdict.get('j'),latdict.get('j')))\n",
    "D.add_node('k',pos=(longdict.get('k'),latdict.get('k')))\n",
    "D.add_node('l',pos=(longdict.get('l'),latdict.get('l')))\n",
    "D.add_node('m',pos=(longdict.get('m'),latdict.get('m')))\n",
    "D.add_node('n',pos=(longdict.get('n'),latdict.get('n')))\n",
    "D.add_node('o',pos=(longdict.get('o'),latdict.get('o')))\n",
    "D.add_node('p',pos=(longdict.get('p'),latdict.get('p')))\n",
    "\n",
    "D.add_edge(\"a\",\"b\")\n",
    "D.add_edge(\"a\",\"p\")\n",
    "D.add_edge(\"p\",\"o\")\n",
    "D.add_edge(\"o\",\"b\")\n",
    "D.add_edge(\"o\",\"n\")\n",
    "D.add_edge(\"n\",\"l\")\n",
    "D.add_edge(\"l\",\"m\")\n",
    "D.add_edge(\"l\",\"d\")\n",
    "D.add_edge(\"d\",\"b\")\n",
    "D.add_edge(\"a\",\"c\")\n",
    "D.add_edge(\"d\",\"c\")\n",
    "D.add_edge(\"l\",\"k\")\n",
    "D.add_edge(\"k\",\"j\")\n",
    "D.add_edge(\"j\",\"i\")\n",
    "D.add_edge(\"h\",\"i\")\n",
    "D.add_edge(\"h\",\"f\")\n",
    "D.add_edge(\"f\",\"d\")\n",
    "D.add_edge(\"c\",\"e\")\n",
    "D.add_edge(\"e\",\"g\")\n",
    "D.add_edge(\"g\",\"j\")\n",
    "\n",
    "nx.draw(D, nx.get_node_attributes(D, 'pos'), with_labels=True, node_size=0)\n",
    "\n",
    "#I think its hoizontally stretched because the latitude.  Need to do some sort of cylindrical projection conversion"
   ]
  },
  {
   "cell_type": "code",
   "execution_count": null,
   "id": "274965fd",
   "metadata": {},
   "outputs": [],
   "source": [
    "# Fixing projection\n",
    "# https://stackoverflow.com/a/14457180\n",
    "\n",
    "# Centrality (could be useful later)\n",
    "# https://networkx.org/documentation/stable/reference/algorithms/generated/networkx.algorithms.centrality.degree_centrality.html\n",
    "\n",
    "# use purple edges to represent gateways between a blue node and a red node"
   ]
  },
  {
   "cell_type": "code",
   "execution_count": null,
   "id": "0a4d2fb2",
   "metadata": {},
   "outputs": [],
   "source": [
    "'''latitude    = 41.145556; // (φ)\n",
    "longitude   = -73.995;   // (λ)\n",
    "\n",
    "mapWidth    = 200;\n",
    "mapHeight   = 100;\n",
    "\n",
    "// get x value\n",
    "x = (longitude+180)*(mapWidth/360)\n",
    "\n",
    "// convert from degrees to radians\n",
    "latRad = latitude*PI/180;\n",
    "\n",
    "// get y value\n",
    "mercN = ln(tan((PI/4)+(latRad/2)));\n",
    "y     = (mapHeight/2)-(mapWidth*mercN/(2*PI));'''\n",
    "\n",
    "# This is pseudoocode from stackoverflow in java"
   ]
  }
 ],
 "metadata": {
  "kernelspec": {
   "display_name": "Python 3 (ipykernel)",
   "language": "python",
   "name": "python3"
  },
  "language_info": {
   "codemirror_mode": {
    "name": "ipython",
    "version": 3
   },
   "file_extension": ".py",
   "mimetype": "text/x-python",
   "name": "python",
   "nbconvert_exporter": "python",
   "pygments_lexer": "ipython3",
   "version": "3.11.4"
  }
 },
 "nbformat": 4,
 "nbformat_minor": 5
}
