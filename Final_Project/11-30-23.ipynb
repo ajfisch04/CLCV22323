{
 "cells": [
  {
   "cell_type": "code",
   "execution_count": 1,
   "id": "879cabe3",
   "metadata": {},
   "outputs": [],
   "source": [
    "# This notebook is adapted from the youtube tutorial\n",
    "# https://www.youtube.com/watch?v=XNHU9vxGiJw"
   ]
  },
  {
   "cell_type": "code",
   "execution_count": 2,
   "id": "831d0090",
   "metadata": {},
   "outputs": [
    {
     "ename": "SyntaxError",
     "evalue": "invalid syntax (883081374.py, line 2)",
     "output_type": "error",
     "traceback": [
      "\u001b[1;36m  Cell \u001b[1;32mIn[2], line 2\u001b[1;36m\u001b[0m\n\u001b[1;33m    install libspatialindex-dev -qq\u001b[0m\n\u001b[1;37m            ^\u001b[0m\n\u001b[1;31mSyntaxError\u001b[0m\u001b[1;31m:\u001b[0m invalid syntax\n"
     ]
    }
   ],
   "source": [
    "# Install\n",
    "install libspatialindex-dev -qq\n",
    "install fiona shapely pyproj rtree --quiet\n",
    "install geopandas --quiet\n",
    "install contextily"
   ]
  },
  {
   "cell_type": "code",
   "execution_count": 3,
   "id": "19d760c5",
   "metadata": {},
   "outputs": [],
   "source": [
    "# Imports\n",
    "import os\n",
    "import requests\n",
    "import pandas as pd\n",
    "import geopandas as gpd\n",
    "import matplotlib.pyplot as plt\n",
    "import contextily as cx\n",
    "from shapely.geometry import Point, LineString"
   ]
  },
  {
   "cell_type": "code",
   "execution_count": 4,
   "id": "0201ca1a",
   "metadata": {},
   "outputs": [],
   "source": [
    "# This is where I have to import the Address_Points.zip"
   ]
  },
  {
   "cell_type": "code",
   "execution_count": null,
   "id": "2f798d5b",
   "metadata": {},
   "outputs": [],
   "source": [
    "# My ORS API key\n",
    "ORS_API_KEY = 'replace this with your key'"
   ]
  },
  {
   "cell_type": "code",
   "execution_count": null,
   "id": "55597d8c",
   "metadata": {},
   "outputs": [],
   "source": [
    "# Don't understand what's going on with the \"data folder\" situations"
   ]
  }
 ],
 "metadata": {
  "kernelspec": {
   "display_name": "Python 3 (ipykernel)",
   "language": "python",
   "name": "python3"
  },
  "language_info": {
   "codemirror_mode": {
    "name": "ipython",
    "version": 3
   },
   "file_extension": ".py",
   "mimetype": "text/x-python",
   "name": "python",
   "nbconvert_exporter": "python",
   "pygments_lexer": "ipython3",
   "version": "3.11.4"
  }
 },
 "nbformat": 4,
 "nbformat_minor": 5
}
