{
 "cells": [
  {
   "cell_type": "code",
   "execution_count": 20,
   "id": "31935d76",
   "metadata": {},
   "outputs": [],
   "source": [
    "import json\n",
    "import urllib.request"
   ]
  },
  {
   "cell_type": "code",
   "execution_count": 21,
   "id": "a82ba54e",
   "metadata": {},
   "outputs": [
    {
     "name": "stdout",
     "output_type": "stream",
     "text": [
      "3.11\n",
      "2.0.9\n"
     ]
    }
   ],
   "source": [
    "print(urllib.request.__version__)\n",
    "print(json.__version__)"
   ]
  },
  {
   "cell_type": "code",
   "execution_count": 22,
   "id": "6e60bbc1",
   "metadata": {},
   "outputs": [],
   "source": [
    "with open('295267.json', encoding = 'utf-8') as f:\n",
    "    data = json.load(f)"
   ]
  },
  {
   "cell_type": "code",
   "execution_count": 23,
   "id": "c80feebf",
   "metadata": {},
   "outputs": [
    {
     "data": {
      "text/plain": [
       "{'features': [{'geometry': {'type': 'Point',\n",
       "    'coordinates': [1.905412, 36.566844]},\n",
       "   'type': 'Feature',\n",
       "   'id': 'darmc-location-12593',\n",
       "   'properties': {'snippet': 'Unknown; 550 BC - AD 300',\n",
       "    'link': 'https://pleiades.stoa.org/places/295267/darmc-location-12593',\n",
       "    'description': '500K scale point location',\n",
       "    'location_precision': 'precise',\n",
       "    'title': 'DARMC location 12593'}}],\n",
       " 'contributors': [{'username': None, 'name': 'DARMC'},\n",
       "  {'username': None, 'name': 'R. Talbert'},\n",
       "  {'username': 'jbecker',\n",
       "   'homepage': None,\n",
       "   'name': 'Jeffrey Becker',\n",
       "   'uri': 'https://pleiades.stoa.org/author/jbecker'},\n",
       "  {'username': None, 'name': 'R. Warner'},\n",
       "  {'username': 'sgillies',\n",
       "   'homepage': None,\n",
       "   'name': 'Sean Gillies',\n",
       "   'uri': 'https://pleiades.stoa.org/author/sgillies'},\n",
       "  {'username': 'thomase',\n",
       "   'homepage': None,\n",
       "   'name': 'Tom Elliott',\n",
       "   'uri': 'https://pleiades.stoa.org/author/thomase'}],\n",
       " 'locations': [{'contributors': [{'username': None,\n",
       "     'name': 'DARMC, R. Talbert, T. Elliott, S. Gillies'}],\n",
       "   'associationCertainty': 'certain',\n",
       "   'attestations': [{'timePeriod': 'classical',\n",
       "     'timePeriodURI': 'https://pleiades.stoa.org/vocabularies/time-periods/classical',\n",
       "     'confidence': 'confident',\n",
       "     'confidenceURI': 'https://pleiades.stoa.org/vocabularies/attestation-confidence/confident'},\n",
       "    {'timePeriod': 'hellenistic-republican',\n",
       "     'timePeriodURI': 'https://pleiades.stoa.org/vocabularies/time-periods/hellenistic-republican',\n",
       "     'confidence': 'confident',\n",
       "     'confidenceURI': 'https://pleiades.stoa.org/vocabularies/attestation-confidence/confident'},\n",
       "    {'timePeriod': 'roman',\n",
       "     'timePeriodURI': 'https://pleiades.stoa.org/vocabularies/time-periods/roman',\n",
       "     'confidence': 'confident',\n",
       "     'confidenceURI': 'https://pleiades.stoa.org/vocabularies/attestation-confidence/confident'}],\n",
       "   'references': [{'alternateURI': '',\n",
       "     'accessURI': 'https://darmc.harvard.edu/',\n",
       "     'citationDetail': '12593',\n",
       "     'citationTypeURI': 'http://purl.org/spar/cito/citesAsDataSource',\n",
       "     'shortTitle': 'DARMC',\n",
       "     'bibliographicURI': 'https://www.zotero.org/groups/2533/pleiades/items/itemKey/9UD9W75C',\n",
       "     'formattedCitation': 'Michael McCormick, Giovanni Zambotti, Leland Grigoli, and Kelly Gibson, eds., The Digital Atlas of Roman and Medieval Civilizations (Cambridge (Massachusetts): Harvard University, 2007-), 12593.',\n",
       "     'otherIdentifier': ' ',\n",
       "     'type': 'citesAsDataSource'}],\n",
       "   'id': 'darmc-location-12593',\n",
       "   'featureTypeURI': ['https://pleiades.stoa.org/vocabularies/place-types/unknown'],\n",
       "   'end': 300,\n",
       "   'title': 'DARMC location 12593',\n",
       "   'provenance': 'DARMC OBJECTID: 12593',\n",
       "   'associationCertaintyURI': 'https://pleiades.stoa.org/vocabularies/association-certainty/certain',\n",
       "   'start': -550,\n",
       "   'locationTypeURI': ['https://pleiades.stoa.org/vocabularies/place-types/unknown'],\n",
       "   'archaeologicalRemains': 'unknown',\n",
       "   'details': 'DARMC OBJECTID: 12593',\n",
       "   'review_state': 'published',\n",
       "   'accuracy_value': 10.0,\n",
       "   'accuracy': 'https://pleiades.stoa.org/features/metadata/darmc-a',\n",
       "   'featureType': ['unknown'],\n",
       "   'description': '500K scale point location',\n",
       "   'created': '2011-03-09T21:15:25Z',\n",
       "   'geometry': {'type': 'Point', 'coordinates': [1.905412, 36.566844]},\n",
       "   'locationType': ['representative'],\n",
       "   'uri': 'https://pleiades.stoa.org/places/295267/darmc-location-12593',\n",
       "   'creators': [{'username': None, 'name': 'T.W. Potter'}],\n",
       "   '@type': 'Location',\n",
       "   'history': [{'comment': 'Global migration and reindexing of citations and provenance, February 2012',\n",
       "     'modifiedBy': 'admin',\n",
       "     'modified': '2012-02-15T04:01:20Z'},\n",
       "    {'action': 'Publish externally',\n",
       "     'modifiedBy': 'thomase',\n",
       "     'modified': '2011-03-10T05:06:27Z'},\n",
       "    {'action': 'Submit for review',\n",
       "     'modifiedBy': 'sgillies',\n",
       "     'modified': '2011-03-09T21:15:26Z'},\n",
       "    {'comment': \"New locations, coordinates, and metadata from Harvard's DARMC project. See http://atlantides.org/trac/pleiades/wiki/PlaceUpgradesAndMigrations\",\n",
       "     'modifiedBy': 'sgillies',\n",
       "     'modified': '2011-03-09T21:15:26Z'},\n",
       "    {'action': 'Create',\n",
       "     'modifiedBy': 'sgillies',\n",
       "     'modified': '2011-03-09T21:15:25Z'}]}],\n",
       " 'connections': [],\n",
       " 'references': [{'alternateURI': '',\n",
       "   'accessURI': 'http://www.worldcat.org/oclc/43970336',\n",
       "   'citationDetail': '30 C3 Gouraya',\n",
       "   'citationTypeURI': 'http://purl.org/spar/cito/seeFurther',\n",
       "   'shortTitle': 'BAtlas',\n",
       "   'bibliographicURI': 'https://www.zotero.org/groups/pleiades/items/MIAGQ5C6',\n",
       "   'formattedCitation': '<div class=\"csl-entry\">Talbert, Richard J. A., ed. <i>Barrington Atlas of the Greek and Roman World</i>. Princeton, N.J.: Princeton University Press, 2000. http://www.worldcat.org/oclc/43970336.</div>',\n",
       "   'otherIdentifier': ' ',\n",
       "   'type': 'seeFurther'},\n",
       "  {'alternateURI': '',\n",
       "   'accessURI': 'http://bibliotheque-numerique.inha.fr/viewer/21113/?#page=1&viewer=picture',\n",
       "   'citationDetail': '4.4',\n",
       "   'citationTypeURI': 'http://purl.org/spar/cito/seeFurther',\n",
       "   'shortTitle': 'AAA',\n",
       "   'bibliographicURI': 'https://www.zotero.org/groups/pleiades/items/4TV4GA6X',\n",
       "   'formattedCitation': '<div class=\"csl-entry\">Gsell, S. <i>Atlas Archéologique de l’Algérie</i>. Algiers, Paris: Gouverment Général de l’Algérie; Adolphe Jourdan; Fontemoing et Co., 1911. http://bibliotheque-numerique.inha.fr/viewer/21113/?#page=1&amp;viewer=picture.</div>',\n",
       "   'otherIdentifier': '',\n",
       "   'type': 'seeFurther'},\n",
       "  {'alternateURI': '',\n",
       "   'accessURI': 'https://www.persee.fr/doc/mefr_0223-4874_1933_num_50_1_7233',\n",
       "   'citationDetail': '',\n",
       "   'citationTypeURI': 'http://purl.org/spar/cito/seeFurther',\n",
       "   'shortTitle': 'Missonnier 1933',\n",
       "   'bibliographicURI': 'https://www.zotero.org/groups/pleiades/items/MQDM7I9X',\n",
       "   'formattedCitation': '<div class=\"csl-entry\">Missonnier, F. “Fouilles dans la nécropole punique de Gouraya (Algérie).” <i>Mélanges d’archéologie et d’histoire</i> 50 (1933): 87–119. https://www.persee.fr/doc/mefr_0223-4874_1933_num_50_1_7233.</div>',\n",
       "   'otherIdentifier': '',\n",
       "   'type': 'seeFurther'}],\n",
       " 'names': [],\n",
       " 'id': '295267',\n",
       " 'subject': ['dare:major=0', 'dare:ancient=0', 'dare:feature=settlement'],\n",
       " 'title': 'Gouraya',\n",
       " 'provenance': 'Barrington Atlas: BAtlas 30 C3 Gouraya',\n",
       " 'placeTypeURIs': ['https://pleiades.stoa.org/vocabularies/place-types/settlement'],\n",
       " 'details': 'The Barrington Atlas Directory notes: Gouraya',\n",
       " '@context': {'snippet': 'dcterms:abstract',\n",
       "  'rights': 'dcterms:rights',\n",
       "  'description': 'dcterms:description',\n",
       "  'title': 'dcterms:title',\n",
       "  'dcterms': 'http://purl.org/dc/terms/',\n",
       "  'subject': 'dcterms:subject',\n",
       "  'uri': '@id',\n",
       "  'created': 'dcterms:created'},\n",
       " 'review_state': 'published',\n",
       " 'type': 'FeatureCollection',\n",
       " 'description': 'An ancient place, cited: BAtlas 30 C3 Gouraya',\n",
       " 'reprPoint': [1.905412, 36.566844],\n",
       " 'placeTypes': ['settlement'],\n",
       " 'bbox': [1.905412, 36.566844, 1.905412, 36.566844],\n",
       " 'connectsWith': [],\n",
       " 'rights': 'Copyright © The Contributors. Sharing and remixing permitted under terms of the Creative Commons Attribution 3.0 License (cc-by).',\n",
       " 'created': '2010-09-24T21:00:39Z',\n",
       " 'uri': 'https://pleiades.stoa.org/places/295267',\n",
       " 'creators': [{'username': None, 'name': 'T.W. Potter'}],\n",
       " '@type': 'Place',\n",
       " 'history': [{'comment': 'update references',\n",
       "   'modifiedBy': 'jbecker',\n",
       "   'modified': '2023-10-18T03:36:43Z'},\n",
       "  {'comment': \"Location updates and tags from Johan Ahlfeldt's (jahlfeldt) Digital Atlas of the Roman Empire in October 2012\",\n",
       "   'modifiedBy': 'sgillies',\n",
       "   'modified': '2012-10-20T19:16:22Z'},\n",
       "  {'comment': 'Global migration and reindexing of citations and provenance, February 2012',\n",
       "   'modifiedBy': 'admin',\n",
       "   'modified': '2012-02-15T04:01:20Z'},\n",
       "  {'comment': \"New locations, coordinates, and metadata from Harvard's DARMC project. See http://atlantides.org/trac/pleiades/wiki/PlaceUpgradesAndMigrations\",\n",
       "   'modifiedBy': 'sgillies',\n",
       "   'modified': '2011-03-09T21:15:27Z'},\n",
       "  {'comment': 'Detail text updated from former modernLocation. See http://atlantides.org/trac/pleiades/wiki/PlaceDetailsUpgrade',\n",
       "   'modifiedBy': 'sgillies',\n",
       "   'modified': '2011-01-14T19:25:46Z'},\n",
       "  {'action': 'Publish externally',\n",
       "   'modifiedBy': 'thomase',\n",
       "   'modified': '2010-09-25T16:11:34Z'},\n",
       "  {'action': 'Submit for review',\n",
       "   'modifiedBy': 'sgillies',\n",
       "   'modified': '2010-09-24T23:22:50Z'},\n",
       "  {'action': 'Create',\n",
       "   'modifiedBy': 'sgillies',\n",
       "   'modified': '2010-09-24T21:00:39Z'}]}"
      ]
     },
     "execution_count": 23,
     "metadata": {},
     "output_type": "execute_result"
    }
   ],
   "source": [
    "data"
   ]
  },
  {
   "cell_type": "code",
   "execution_count": 24,
   "id": "d3474c03",
   "metadata": {},
   "outputs": [
    {
     "data": {
      "text/plain": [
       "list"
      ]
     },
     "execution_count": 24,
     "metadata": {},
     "output_type": "execute_result"
    }
   ],
   "source": [
    "type(data['features'])"
   ]
  },
  {
   "cell_type": "code",
   "execution_count": 25,
   "id": "b299c99c",
   "metadata": {},
   "outputs": [
    {
     "data": {
      "text/plain": [
       "{'geometry': {'type': 'Point', 'coordinates': [1.905412, 36.566844]},\n",
       " 'type': 'Feature',\n",
       " 'id': 'darmc-location-12593',\n",
       " 'properties': {'snippet': 'Unknown; 550 BC - AD 300',\n",
       "  'link': 'https://pleiades.stoa.org/places/295267/darmc-location-12593',\n",
       "  'description': '500K scale point location',\n",
       "  'location_precision': 'precise',\n",
       "  'title': 'DARMC location 12593'}}"
      ]
     },
     "execution_count": 25,
     "metadata": {},
     "output_type": "execute_result"
    }
   ],
   "source": [
    "data['features'][0]"
   ]
  },
  {
   "cell_type": "code",
   "execution_count": 26,
   "id": "cc5ced34",
   "metadata": {},
   "outputs": [
    {
     "data": {
      "text/plain": [
       "[1.905412, 36.566844]"
      ]
     },
     "execution_count": 26,
     "metadata": {},
     "output_type": "execute_result"
    }
   ],
   "source": [
    "data['features'][0]['geometry']['coordinates']"
   ]
  },
  {
   "cell_type": "code",
   "execution_count": 33,
   "id": "56d4fcc8",
   "metadata": {},
   "outputs": [],
   "source": [
    "def getjson(uri):\n",
    "    \n",
    "    uri = f'https://pleiades.stoa.org/places/{uri}/json'\n",
    "    \n",
    "    with urllib.request.urlopen(uri) as f:\n",
    "        data = json.load(f.read().decode())"
   ]
  },
  {
   "cell_type": "code",
   "execution_count": 34,
   "id": "76e19af0",
   "metadata": {},
   "outputs": [
    {
     "ename": "AttributeError",
     "evalue": "'str' object has no attribute 'read'",
     "output_type": "error",
     "traceback": [
      "\u001b[1;31m---------------------------------------------------------------------------\u001b[0m",
      "\u001b[1;31mAttributeError\u001b[0m                            Traceback (most recent call last)",
      "Cell \u001b[1;32mIn[34], line 1\u001b[0m\n\u001b[1;32m----> 1\u001b[0m getjson(\u001b[38;5;241m491653\u001b[39m)\n",
      "Cell \u001b[1;32mIn[33], line 6\u001b[0m, in \u001b[0;36mgetjson\u001b[1;34m(uri)\u001b[0m\n\u001b[0;32m      3\u001b[0m uri \u001b[38;5;241m=\u001b[39m \u001b[38;5;124mf\u001b[39m\u001b[38;5;124m'\u001b[39m\u001b[38;5;124mhttps://pleiades.stoa.org/places/\u001b[39m\u001b[38;5;132;01m{\u001b[39;00muri\u001b[38;5;132;01m}\u001b[39;00m\u001b[38;5;124m/json\u001b[39m\u001b[38;5;124m'\u001b[39m\n\u001b[0;32m      5\u001b[0m \u001b[38;5;28;01mwith\u001b[39;00m urllib\u001b[38;5;241m.\u001b[39mrequest\u001b[38;5;241m.\u001b[39murlopen(uri) \u001b[38;5;28;01mas\u001b[39;00m f:\n\u001b[1;32m----> 6\u001b[0m     data \u001b[38;5;241m=\u001b[39m json\u001b[38;5;241m.\u001b[39mload(f\u001b[38;5;241m.\u001b[39mread()\u001b[38;5;241m.\u001b[39mdecode())\n",
      "File \u001b[1;32m~\\anaconda3\\Lib\\json\\__init__.py:293\u001b[0m, in \u001b[0;36mload\u001b[1;34m(fp, cls, object_hook, parse_float, parse_int, parse_constant, object_pairs_hook, **kw)\u001b[0m\n\u001b[0;32m    274\u001b[0m \u001b[38;5;28;01mdef\u001b[39;00m \u001b[38;5;21mload\u001b[39m(fp, \u001b[38;5;241m*\u001b[39m, \u001b[38;5;28mcls\u001b[39m\u001b[38;5;241m=\u001b[39m\u001b[38;5;28;01mNone\u001b[39;00m, object_hook\u001b[38;5;241m=\u001b[39m\u001b[38;5;28;01mNone\u001b[39;00m, parse_float\u001b[38;5;241m=\u001b[39m\u001b[38;5;28;01mNone\u001b[39;00m,\n\u001b[0;32m    275\u001b[0m         parse_int\u001b[38;5;241m=\u001b[39m\u001b[38;5;28;01mNone\u001b[39;00m, parse_constant\u001b[38;5;241m=\u001b[39m\u001b[38;5;28;01mNone\u001b[39;00m, object_pairs_hook\u001b[38;5;241m=\u001b[39m\u001b[38;5;28;01mNone\u001b[39;00m, \u001b[38;5;241m*\u001b[39m\u001b[38;5;241m*\u001b[39mkw):\n\u001b[0;32m    276\u001b[0m \u001b[38;5;250m    \u001b[39m\u001b[38;5;124;03m\"\"\"Deserialize ``fp`` (a ``.read()``-supporting file-like object containing\u001b[39;00m\n\u001b[0;32m    277\u001b[0m \u001b[38;5;124;03m    a JSON document) to a Python object.\u001b[39;00m\n\u001b[0;32m    278\u001b[0m \n\u001b[1;32m   (...)\u001b[0m\n\u001b[0;32m    291\u001b[0m \u001b[38;5;124;03m    kwarg; otherwise ``JSONDecoder`` is used.\u001b[39;00m\n\u001b[0;32m    292\u001b[0m \u001b[38;5;124;03m    \"\"\"\u001b[39;00m\n\u001b[1;32m--> 293\u001b[0m     \u001b[38;5;28;01mreturn\u001b[39;00m loads(fp\u001b[38;5;241m.\u001b[39mread(),\n\u001b[0;32m    294\u001b[0m         \u001b[38;5;28mcls\u001b[39m\u001b[38;5;241m=\u001b[39m\u001b[38;5;28mcls\u001b[39m, object_hook\u001b[38;5;241m=\u001b[39mobject_hook,\n\u001b[0;32m    295\u001b[0m         parse_float\u001b[38;5;241m=\u001b[39mparse_float, parse_int\u001b[38;5;241m=\u001b[39mparse_int,\n\u001b[0;32m    296\u001b[0m         parse_constant\u001b[38;5;241m=\u001b[39mparse_constant, object_pairs_hook\u001b[38;5;241m=\u001b[39mobject_pairs_hook, \u001b[38;5;241m*\u001b[39m\u001b[38;5;241m*\u001b[39mkw)\n",
      "\u001b[1;31mAttributeError\u001b[0m: 'str' object has no attribute 'read'"
     ]
    }
   ],
   "source": [
    "getjson(491653)"
   ]
  },
  {
   "cell_type": "code",
   "execution_count": 40,
   "id": "559607c9",
   "metadata": {},
   "outputs": [],
   "source": [
    "def coordinates(uri):\n",
    "    coords = getjson(uri)['features'][0]['geometry']['coordinates']\n",
    "    return coords"
   ]
  },
  {
   "cell_type": "code",
   "execution_count": 42,
   "id": "6c061268",
   "metadata": {},
   "outputs": [
    {
     "ename": "AttributeError",
     "evalue": "'str' object has no attribute 'read'",
     "output_type": "error",
     "traceback": [
      "\u001b[1;31m---------------------------------------------------------------------------\u001b[0m",
      "\u001b[1;31mAttributeError\u001b[0m                            Traceback (most recent call last)",
      "Cell \u001b[1;32mIn[42], line 1\u001b[0m\n\u001b[1;32m----> 1\u001b[0m coordinates(\u001b[38;5;241m697622\u001b[39m)\n",
      "Cell \u001b[1;32mIn[40], line 2\u001b[0m, in \u001b[0;36mcoordinates\u001b[1;34m(uri)\u001b[0m\n\u001b[0;32m      1\u001b[0m \u001b[38;5;28;01mdef\u001b[39;00m \u001b[38;5;21mcoordinates\u001b[39m(uri):\n\u001b[1;32m----> 2\u001b[0m     coords \u001b[38;5;241m=\u001b[39m getjson(uri)[\u001b[38;5;124m'\u001b[39m\u001b[38;5;124mfeatures\u001b[39m\u001b[38;5;124m'\u001b[39m][\u001b[38;5;241m0\u001b[39m][\u001b[38;5;124m'\u001b[39m\u001b[38;5;124mgeometry\u001b[39m\u001b[38;5;124m'\u001b[39m][\u001b[38;5;124m'\u001b[39m\u001b[38;5;124mcoordinates\u001b[39m\u001b[38;5;124m'\u001b[39m]\n\u001b[0;32m      3\u001b[0m     \u001b[38;5;28;01mreturn\u001b[39;00m coords\n",
      "Cell \u001b[1;32mIn[33], line 6\u001b[0m, in \u001b[0;36mgetjson\u001b[1;34m(uri)\u001b[0m\n\u001b[0;32m      3\u001b[0m uri \u001b[38;5;241m=\u001b[39m \u001b[38;5;124mf\u001b[39m\u001b[38;5;124m'\u001b[39m\u001b[38;5;124mhttps://pleiades.stoa.org/places/\u001b[39m\u001b[38;5;132;01m{\u001b[39;00muri\u001b[38;5;132;01m}\u001b[39;00m\u001b[38;5;124m/json\u001b[39m\u001b[38;5;124m'\u001b[39m\n\u001b[0;32m      5\u001b[0m \u001b[38;5;28;01mwith\u001b[39;00m urllib\u001b[38;5;241m.\u001b[39mrequest\u001b[38;5;241m.\u001b[39murlopen(uri) \u001b[38;5;28;01mas\u001b[39;00m f:\n\u001b[1;32m----> 6\u001b[0m     data \u001b[38;5;241m=\u001b[39m json\u001b[38;5;241m.\u001b[39mload(f\u001b[38;5;241m.\u001b[39mread()\u001b[38;5;241m.\u001b[39mdecode())\n",
      "File \u001b[1;32m~\\anaconda3\\Lib\\json\\__init__.py:293\u001b[0m, in \u001b[0;36mload\u001b[1;34m(fp, cls, object_hook, parse_float, parse_int, parse_constant, object_pairs_hook, **kw)\u001b[0m\n\u001b[0;32m    274\u001b[0m \u001b[38;5;28;01mdef\u001b[39;00m \u001b[38;5;21mload\u001b[39m(fp, \u001b[38;5;241m*\u001b[39m, \u001b[38;5;28mcls\u001b[39m\u001b[38;5;241m=\u001b[39m\u001b[38;5;28;01mNone\u001b[39;00m, object_hook\u001b[38;5;241m=\u001b[39m\u001b[38;5;28;01mNone\u001b[39;00m, parse_float\u001b[38;5;241m=\u001b[39m\u001b[38;5;28;01mNone\u001b[39;00m,\n\u001b[0;32m    275\u001b[0m         parse_int\u001b[38;5;241m=\u001b[39m\u001b[38;5;28;01mNone\u001b[39;00m, parse_constant\u001b[38;5;241m=\u001b[39m\u001b[38;5;28;01mNone\u001b[39;00m, object_pairs_hook\u001b[38;5;241m=\u001b[39m\u001b[38;5;28;01mNone\u001b[39;00m, \u001b[38;5;241m*\u001b[39m\u001b[38;5;241m*\u001b[39mkw):\n\u001b[0;32m    276\u001b[0m \u001b[38;5;250m    \u001b[39m\u001b[38;5;124;03m\"\"\"Deserialize ``fp`` (a ``.read()``-supporting file-like object containing\u001b[39;00m\n\u001b[0;32m    277\u001b[0m \u001b[38;5;124;03m    a JSON document) to a Python object.\u001b[39;00m\n\u001b[0;32m    278\u001b[0m \n\u001b[1;32m   (...)\u001b[0m\n\u001b[0;32m    291\u001b[0m \u001b[38;5;124;03m    kwarg; otherwise ``JSONDecoder`` is used.\u001b[39;00m\n\u001b[0;32m    292\u001b[0m \u001b[38;5;124;03m    \"\"\"\u001b[39;00m\n\u001b[1;32m--> 293\u001b[0m     \u001b[38;5;28;01mreturn\u001b[39;00m loads(fp\u001b[38;5;241m.\u001b[39mread(),\n\u001b[0;32m    294\u001b[0m         \u001b[38;5;28mcls\u001b[39m\u001b[38;5;241m=\u001b[39m\u001b[38;5;28mcls\u001b[39m, object_hook\u001b[38;5;241m=\u001b[39mobject_hook,\n\u001b[0;32m    295\u001b[0m         parse_float\u001b[38;5;241m=\u001b[39mparse_float, parse_int\u001b[38;5;241m=\u001b[39mparse_int,\n\u001b[0;32m    296\u001b[0m         parse_constant\u001b[38;5;241m=\u001b[39mparse_constant, object_pairs_hook\u001b[38;5;241m=\u001b[39mobject_pairs_hook, \u001b[38;5;241m*\u001b[39m\u001b[38;5;241m*\u001b[39mkw)\n",
      "\u001b[1;31mAttributeError\u001b[0m: 'str' object has no attribute 'read'"
     ]
    }
   ],
   "source": [
    "coordinates(697622)"
   ]
  }
 ],
 "metadata": {
  "kernelspec": {
   "display_name": "Python 3 (ipykernel)",
   "language": "python",
   "name": "python3"
  },
  "language_info": {
   "codemirror_mode": {
    "name": "ipython",
    "version": 3
   },
   "file_extension": ".py",
   "mimetype": "text/x-python",
   "name": "python",
   "nbconvert_exporter": "python",
   "pygments_lexer": "ipython3",
   "version": "3.11.4"
  }
 },
 "nbformat": 4,
 "nbformat_minor": 5
}
