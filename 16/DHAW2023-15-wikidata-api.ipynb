{
 "cells": [
  {
   "cell_type": "markdown",
   "id": "db28a5db",
   "metadata": {},
   "source": [
    "#### Use Wikidata API to search for entities (items or properties)"
   ]
  },
  {
   "cell_type": "code",
   "execution_count": 1,
   "id": "39459f0f",
   "metadata": {},
   "outputs": [
    {
     "name": "stdout",
     "output_type": "stream",
     "text": [
      "Enter the string to search for: avery\n",
      "\n",
      "Items:\n",
      "Entity ID: Q2714574 - Label: Milton Avery - Description: American artist (1885-1965) - http://www.wikidata.org/entity/Q2714574\n",
      "Entity ID: Q790638 - Label: Avery - Description: family name - http://www.wikidata.org/entity/Q790638\n",
      "Entity ID: Q790645 - Label: Avery - Description: unisex given name - http://www.wikidata.org/entity/Q790645\n",
      "Entity ID: Q790644 - Label: Avery - Description: town in Red River County, Texas, United States - http://www.wikidata.org/entity/Q790644\n",
      "Entity ID: Q599604 - Label: 3580 Avery - Description: asteroid - http://www.wikidata.org/entity/Q599604\n",
      "Entity ID: Q2677123 - Label: Avery - Description: census-designated place in Calaveras County, California - http://www.wikidata.org/entity/Q2677123\n",
      "Entity ID: Q790642 - Label: Avery - Description: lunar crater - http://www.wikidata.org/entity/Q790642\n",
      "\n",
      "Properties:\n"
     ]
    }
   ],
   "source": [
    "import requests\n",
    "\n",
    "def search_entities(search_string, entity_type, language='en'):\n",
    "    endpoint_url = \"https://www.wikidata.org/w/api.php\"\n",
    "\n",
    "    # Define the parameters for the API call\n",
    "    params = {\n",
    "        'action': 'wbsearchentities',\n",
    "        'format': 'json',\n",
    "        'search': search_string,\n",
    "        'type': entity_type,\n",
    "        'language': language   \n",
    "    }\n",
    "\n",
    "    # Make the API call\n",
    "    response = requests.get(endpoint_url, params=params)\n",
    "    data = response.json()\n",
    "\n",
    "    # Extract and return entity IDs and labels\n",
    "    entities = data.get('search', [])\n",
    "    return entities\n",
    "\n",
    "def display_entities(entities, entity_type):\n",
    "    print(f\"\\n{entity_type.capitalize()}:\")\n",
    "    for entity in entities:\n",
    "        print(f\"Entity ID: {entity['id']} - Label: {entity['label']} - Description: {entity['display']['description']['value']} - {entity['concepturi']}\")\n",
    "\n",
    "if __name__ == \"__main__\":\n",
    "    search_string = input(\"Enter the string to search for: \")\n",
    "    \n",
    "    # Search for items\n",
    "    items = search_entities(search_string, 'item')\n",
    "    display_entities(items, 'items')\n",
    "\n",
    "    # Search for properties\n",
    "    properties = search_entities(search_string, 'property')\n",
    "    display_entities(properties, 'properties')"
   ]
  },
  {
   "cell_type": "markdown",
   "id": "8c65961f",
   "metadata": {},
   "source": [
    "---"
   ]
  }
 ],
 "metadata": {
  "kernelspec": {
   "display_name": "Python 3 (ipykernel)",
   "language": "python",
   "name": "python3"
  },
  "language_info": {
   "codemirror_mode": {
    "name": "ipython",
    "version": 3
   },
   "file_extension": ".py",
   "mimetype": "text/x-python",
   "name": "python",
   "nbconvert_exporter": "python",
   "pygments_lexer": "ipython3",
   "version": "3.11.4"
  }
 },
 "nbformat": 4,
 "nbformat_minor": 5
}
