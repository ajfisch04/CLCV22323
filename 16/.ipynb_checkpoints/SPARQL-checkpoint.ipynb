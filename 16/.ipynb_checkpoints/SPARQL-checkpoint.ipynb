{
 "cells": [
  {
   "cell_type": "code",
   "execution_count": null,
   "id": "4024886c",
   "metadata": {},
   "outputs": [],
   "source": [
    "PREFIX authors: <http://url.net/site/position/> # the database for ancient authors\n",
    "PREFIX rdfs:  <http://www.w3.org/2000/01/rdf-schema#>SELECT DISTINCT ?name\n",
    "WHERE {\n",
    " ?instance authors:author ?author ;\n",
    " authors:city <http://url.net/site/position/to/authorsinathens>\n",
    " authors:time <http://url.net/site/position/to/authorsin500bc>\n",
    " ?author rdfs:label ?name .\n",
    "}"
   ]
  },
  {
   "cell_type": "code",
   "execution_count": null,
   "id": "6db73476",
   "metadata": {},
   "outputs": [],
   "source": [
    "# based on:\n",
    "# https://medium.com/wallscope/constructing-sparql-queries-ca63b8b9ac02"
   ]
  }
 ],
 "metadata": {
  "kernelspec": {
   "display_name": "Python 3 (ipykernel)",
   "language": "python",
   "name": "python3"
  },
  "language_info": {
   "codemirror_mode": {
    "name": "ipython",
    "version": 3
   },
   "file_extension": ".py",
   "mimetype": "text/x-python",
   "name": "python",
   "nbconvert_exporter": "python",
   "pygments_lexer": "ipython3",
   "version": "3.11.4"
  }
 },
 "nbformat": 4,
 "nbformat_minor": 5
}
